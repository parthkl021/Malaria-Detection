{
 "cells": [
  {
   "cell_type": "code",
   "execution_count": 1,
   "id": "d86e2a90",
   "metadata": {},
   "outputs": [],
   "source": [
    "from save_load import save_model, load_model, save_feature, load_feature\n",
    "from utils import import_images, make_label\n",
    "from LocalFeature import LocalFeature\n",
    "import numpy as np\n",
    "import pandas as pd\n",
    "import cv2\n",
    "import preprocessing\n",
    "from general_model import LogisticModel, SVMModel, StandardScaling\n",
    "from sklearn.model_selection import train_test_split\n",
    "from sklearn.linear_model import LogisticRegression\n",
    "import copy"
   ]
  },
  {
   "cell_type": "code",
   "execution_count": 23,
   "id": "9b223116",
   "metadata": {},
   "outputs": [],
   "source": [
    "from sklearn import metrics\n",
    "import matplotlib.pyplot as plt\n",
    "def metric(y_test, y_pred):\n",
    "    matrix = metrics.confusion_matrix(y_test, y_pred)\n",
    "    accuracy = metrics.accuracy_score(y_test, y_pred)\n",
    "    precision = metrics.precision_score(y_test, y_pred)\n",
    "    recall = metrics.recall_score(y_test, y_pred)\n",
    "    f1 = metrics.f1_score(y_test, y_pred)\n",
    "    return matrix,accuracy,precision,recall,f1\n",
    "\n",
    "def plot_roc(y1, y2, prob_list,classes):\n",
    "    fpr = []\n",
    "    tpr = []\n",
    "    roc_auc = []\n",
    "    for i,name in enumerate(classes):\n",
    "        if name == 'SIFT BOVW':\n",
    "            f, t, _ = metrics.roc_curve(y2, prob_list[i], pos_label=1)\n",
    "            ra = metrics.roc_auc_score(y2, prob_list[i])\n",
    "            fpr.append(f)\n",
    "            tpr.append(t)\n",
    "            roc_auc.append(ra)\n",
    "            continue\n",
    "        f, t, _ = metrics.roc_curve(y1, prob_list[i], pos_label=1)\n",
    "        ra = metrics.roc_auc_score(y1, prob_list[i])\n",
    "        fpr.append(f)\n",
    "        tpr.append(t)\n",
    "        roc_auc.append(ra)\n",
    "\n",
    "    plt.figure(figsize=(12, 6))\n",
    "    colors = [ 'red','orange', 'purple']\n",
    "    for i in range(len(classes)):\n",
    "        plt.plot(fpr[i], tpr[i], color=colors[i],label='ROC curve for ' + classes[i] + ' class (area = {1:0.2f})'\n",
    "                 ''.format(i, roc_auc[i]))\n",
    "\n",
    "    plt.xlabel('False Positive Rate')\n",
    "    plt.ylabel('True Positive Rate')\n",
    "    plt.legend()\n",
    "    plt.show()"
   ]
  },
  {
   "cell_type": "markdown",
   "id": "1e832830",
   "metadata": {},
   "source": [
    "<h3>Import images in original and grayscale"
   ]
  },
  {
   "cell_type": "code",
   "execution_count": 4,
   "id": "2d0de6c5",
   "metadata": {},
   "outputs": [],
   "source": [
    "p_img, p_grey = import_images(r'/Users/parth/ML/Project/cell_images/Parasitized/*.png')\n",
    "u_img, u_grey = import_images(r'/Users/parth/ML/Project/cell_images/Uninfected/*.png')"
   ]
  },
  {
   "cell_type": "code",
   "execution_count": 5,
   "id": "ed11b6cc",
   "metadata": {},
   "outputs": [],
   "source": [
    "original_image = p_img.copy()\n",
    "original_image.extend(u_img)\n",
    "gray_image = p_grey.copy()\n",
    "gray_image.extend(u_grey)"
   ]
  },
  {
   "cell_type": "code",
   "execution_count": 6,
   "id": "c1f07c0c",
   "metadata": {},
   "outputs": [
    {
     "name": "stdout",
     "output_type": "stream",
     "text": [
      "Successfully saved features\n",
      "Successfully saved features\n"
     ]
    }
   ],
   "source": [
    "save_feature(original_image,'./features_pkl/original_images')\n",
    "save_feature(gray_image,'./features_pkl/original_images_gray')"
   ]
  },
  {
   "cell_type": "code",
   "execution_count": 3,
   "id": "2c843c5b",
   "metadata": {},
   "outputs": [
    {
     "name": "stdout",
     "output_type": "stream",
     "text": [
      "Original shape: 27558\n",
      "Gray shape: 27558\n"
     ]
    }
   ],
   "source": [
    "original_image = load_feature('./features_pkl/original_images.pkl')\n",
    "gray_image = load_feature('./features_pkl/original_images_gray.pkl')\n",
    "print(\"Original shape:\",len(original_image))\n",
    "print(\"Gray shape:\",len(gray_image))"
   ]
  },
  {
   "cell_type": "code",
   "execution_count": 4,
   "id": "17be7cc1",
   "metadata": {},
   "outputs": [
    {
     "data": {
      "text/plain": [
       "(27558,)"
      ]
     },
     "execution_count": 4,
     "metadata": {},
     "output_type": "execute_result"
    }
   ],
   "source": [
    "label = make_label(27558)\n",
    "label.shape"
   ]
  },
  {
   "cell_type": "markdown",
   "id": "bf217cb5",
   "metadata": {},
   "source": [
    "<h3>Resize Gray image"
   ]
  },
  {
   "cell_type": "code",
   "execution_count": 9,
   "id": "54f5ab45",
   "metadata": {},
   "outputs": [
    {
     "name": "stdout",
     "output_type": "stream",
     "text": [
      "Successfully saved features\n"
     ]
    }
   ],
   "source": [
    "np_img = preprocessing.resize_image(original_image, 27558, 64)\n",
    "save_feature(np_img,'./features_pkl/raw_resized_features')"
   ]
  },
  {
   "cell_type": "code",
   "execution_count": 5,
   "id": "5afd418c",
   "metadata": {},
   "outputs": [
    {
     "name": "stdout",
     "output_type": "stream",
     "text": [
      "(27558, 64, 64, 3)\n"
     ]
    }
   ],
   "source": [
    "np_img = load_feature('./features_pkl/raw_resized_features.pkl')\n",
    "print(np_img.shape)"
   ]
  },
  {
   "cell_type": "markdown",
   "id": "d4cf0a5c",
   "metadata": {},
   "source": [
    "<h3> Global feature extraction on raw images"
   ]
  },
  {
   "cell_type": "code",
   "execution_count": null,
   "id": "462fa81e",
   "metadata": {},
   "outputs": [],
   "source": [
    "np_original = preprocessing.global_feature_extractor(gray_image, 27558)\n",
    "save_feature(np_original,'./features_pkl/global_raw_image_features')"
   ]
  },
  {
   "cell_type": "code",
   "execution_count": 114,
   "id": "30db6854",
   "metadata": {},
   "outputs": [
    {
     "name": "stdout",
     "output_type": "stream",
     "text": [
      "(27558, 28)\n"
     ]
    }
   ],
   "source": [
    "np_original = load_feature('./features_pkl/global_raw_image_features.pkl')\n",
    "print(np_original.shape)"
   ]
  },
  {
   "cell_type": "markdown",
   "id": "10f47306",
   "metadata": {},
   "source": [
    "<h3>Global feature extraction on canny filter"
   ]
  },
  {
   "cell_type": "code",
   "execution_count": null,
   "id": "c49b0a27",
   "metadata": {},
   "outputs": [],
   "source": [
    "%%time\n",
    "canny_images = preprocessing.canny_preprocessing(gray_image, 27558)\n",
    "np_canny = preprocessing.global_feature_extractor(canny_images, 27558)\n",
    "save_feature(np_canny,'./features_pkl/global_canny_image_features')"
   ]
  },
  {
   "cell_type": "code",
   "execution_count": 115,
   "id": "3ff400ac",
   "metadata": {},
   "outputs": [
    {
     "name": "stdout",
     "output_type": "stream",
     "text": [
      "(27558, 28)\n"
     ]
    }
   ],
   "source": [
    "np_canny = load_feature('./features_pkl/global_canny_image_features.pkl')\n",
    "print(np_canny.shape)"
   ]
  },
  {
   "cell_type": "markdown",
   "id": "d4580e01",
   "metadata": {},
   "source": [
    "<h3>Global feature extraction on clahe filter"
   ]
  },
  {
   "cell_type": "code",
   "execution_count": null,
   "id": "29238e32",
   "metadata": {},
   "outputs": [],
   "source": [
    "%%time\n",
    "clahe_images = preprocessing.clahe_preprocessing(gray_image, 27558)\n",
    "np_clahe = preprocessing.global_feature_extractor(clahe_images, 27558)\n",
    "save_feature(np_clahe,'./features_pkl/global_clahe_image_features')"
   ]
  },
  {
   "cell_type": "code",
   "execution_count": 116,
   "id": "12c41417",
   "metadata": {},
   "outputs": [
    {
     "name": "stdout",
     "output_type": "stream",
     "text": [
      "(27558, 28)\n"
     ]
    }
   ],
   "source": [
    "np_clahe = load_feature('./features_pkl/global_clahe_image_features.pkl')\n",
    "print(np_clahe.shape)"
   ]
  },
  {
   "cell_type": "markdown",
   "id": "f02cd386",
   "metadata": {},
   "source": [
    "<h3>Global feature extraction on sobel edge detection"
   ]
  },
  {
   "cell_type": "code",
   "execution_count": null,
   "id": "1a7f180b",
   "metadata": {},
   "outputs": [],
   "source": [
    "%%time\n",
    "sobel_images = preprocessing.sobel_preprocessing(gray_image, 27558)\n",
    "np_sobel = preprocessing.global_feature_extractor(sobel_images, 27558)\n",
    "save_feature(np_sobel,'./features_pkl/global_sobel_image_features')"
   ]
  },
  {
   "cell_type": "code",
   "execution_count": 117,
   "id": "4e8ec1f2",
   "metadata": {},
   "outputs": [
    {
     "name": "stdout",
     "output_type": "stream",
     "text": [
      "(27558, 28)\n"
     ]
    }
   ],
   "source": [
    "np_sobel = load_feature('./features_pkl/global_sobel_image_features.pkl')\n",
    "print(np_sobel.shape)"
   ]
  },
  {
   "cell_type": "markdown",
   "id": "1224a99c",
   "metadata": {},
   "source": [
    "<h3>Global feature extraction on scharr edge detection"
   ]
  },
  {
   "cell_type": "code",
   "execution_count": null,
   "id": "5f3e9f67",
   "metadata": {},
   "outputs": [],
   "source": [
    "%%time\n",
    "scharr_images = preprocessing.scharr_preprocessing(gray_image, 27558)\n",
    "np_scharr = preprocessing.global_feature_extractor(scharr_images, 27558)\n",
    "save_feature(np_scharr,'./features_pkl/global_scharr_image_features')"
   ]
  },
  {
   "cell_type": "code",
   "execution_count": 118,
   "id": "be32aeb1",
   "metadata": {},
   "outputs": [
    {
     "name": "stdout",
     "output_type": "stream",
     "text": [
      "(27558, 28)\n"
     ]
    }
   ],
   "source": [
    "np_scharr = load_feature('./features_pkl/global_scharr_image_features.pkl')\n",
    "print(np_scharr.shape)"
   ]
  },
  {
   "cell_type": "markdown",
   "id": "496cf34d",
   "metadata": {},
   "source": [
    "<h3>Global feature test accuracy on baseline model"
   ]
  },
  {
   "cell_type": "code",
   "execution_count": 21,
   "id": "12b2cfb3",
   "metadata": {},
   "outputs": [
    {
     "name": "stdout",
     "output_type": "stream",
     "text": [
      "Training Done for : raw\n",
      "Training Done for : canny\n",
      "Training Done for : clahe\n",
      "Training Done for : scharr\n",
      "Training Done for : sobel\n"
     ]
    }
   ],
   "source": [
    "ll = ['raw', 'canny', 'clahe', 'scharr', 'sobel']\n",
    "log_acc = []\n",
    "svc_acc = []\n",
    "for itr in ll:\n",
    "    filename = './features_pkl/global_'+ itr + '_image_features.pkl'\n",
    "    data = load_feature(filename)\n",
    "    x_train, x_test, y_train, y_test = train_test_split(data, label, test_size=0.25, random_state=42)\n",
    "    x_test = StandardScaling(x_train,x_test)\n",
    "    x_train = StandardScaling(x_train,x_train)\n",
    "    log_acc.append(LogisticModel(x_train, x_test, y_train, y_test))\n",
    "    svc_acc.append(SVMModel(x_train, x_test, y_train, y_test))\n",
    "    print(\"Training Done for :\", itr)"
   ]
  },
  {
   "cell_type": "code",
   "execution_count": 22,
   "id": "11c24c6d",
   "metadata": {},
   "outputs": [
    {
     "data": {
      "text/html": [
       "<div>\n",
       "<style scoped>\n",
       "    .dataframe tbody tr th:only-of-type {\n",
       "        vertical-align: middle;\n",
       "    }\n",
       "\n",
       "    .dataframe tbody tr th {\n",
       "        vertical-align: top;\n",
       "    }\n",
       "\n",
       "    .dataframe thead th {\n",
       "        text-align: right;\n",
       "    }\n",
       "</style>\n",
       "<table border=\"1\" class=\"dataframe\">\n",
       "  <thead>\n",
       "    <tr style=\"text-align: right;\">\n",
       "      <th></th>\n",
       "      <th>Model</th>\n",
       "      <th>Logistic Accuracy</th>\n",
       "      <th>SVM Accuracy</th>\n",
       "    </tr>\n",
       "  </thead>\n",
       "  <tbody>\n",
       "    <tr>\n",
       "      <th>0</th>\n",
       "      <td>raw</td>\n",
       "      <td>0.862554</td>\n",
       "      <td>0.870682</td>\n",
       "    </tr>\n",
       "    <tr>\n",
       "      <th>1</th>\n",
       "      <td>canny</td>\n",
       "      <td>0.845718</td>\n",
       "      <td>0.860958</td>\n",
       "    </tr>\n",
       "    <tr>\n",
       "      <th>2</th>\n",
       "      <td>clahe</td>\n",
       "      <td>0.824964</td>\n",
       "      <td>0.847896</td>\n",
       "    </tr>\n",
       "    <tr>\n",
       "      <th>3</th>\n",
       "      <td>scharr</td>\n",
       "      <td>0.894194</td>\n",
       "      <td>0.895065</td>\n",
       "    </tr>\n",
       "    <tr>\n",
       "      <th>4</th>\n",
       "      <td>sobel</td>\n",
       "      <td>0.915385</td>\n",
       "      <td>0.908128</td>\n",
       "    </tr>\n",
       "  </tbody>\n",
       "</table>\n",
       "</div>"
      ],
      "text/plain": [
       "    Model  Logistic Accuracy  SVM Accuracy\n",
       "0     raw           0.862554      0.870682\n",
       "1   canny           0.845718      0.860958\n",
       "2   clahe           0.824964      0.847896\n",
       "3  scharr           0.894194      0.895065\n",
       "4   sobel           0.915385      0.908128"
      ]
     },
     "execution_count": 22,
     "metadata": {},
     "output_type": "execute_result"
    }
   ],
   "source": [
    "df = pd.DataFrame({'Model' : ll , \"Logistic Accuracy\" : log_acc, \"SVM Accuracy\": svc_acc})\n",
    "df"
   ]
  },
  {
   "cell_type": "markdown",
   "id": "bbcda27d",
   "metadata": {},
   "source": [
    "<h3>SIFT and KAZE"
   ]
  },
  {
   "cell_type": "code",
   "execution_count": 14,
   "id": "79b68315",
   "metadata": {},
   "outputs": [
    {
     "name": "stdout",
     "output_type": "stream",
     "text": [
      "27204 27204\n",
      "Training Done\n",
      "27556 27556\n",
      "Training Done\n",
      "CPU times: user 25min 5s, sys: 3min 48s, total: 28min 53s\n",
      "Wall time: 5min 41s\n"
     ]
    },
    {
     "data": {
      "text/html": [
       "<div>\n",
       "<style scoped>\n",
       "    .dataframe tbody tr th:only-of-type {\n",
       "        vertical-align: middle;\n",
       "    }\n",
       "\n",
       "    .dataframe tbody tr th {\n",
       "        vertical-align: top;\n",
       "    }\n",
       "\n",
       "    .dataframe thead th {\n",
       "        text-align: right;\n",
       "    }\n",
       "</style>\n",
       "<table border=\"1\" class=\"dataframe\">\n",
       "  <thead>\n",
       "    <tr style=\"text-align: right;\">\n",
       "      <th></th>\n",
       "      <th>Feature Type</th>\n",
       "      <th>Logistic Accuracy</th>\n",
       "      <th>SVM Accuracy</th>\n",
       "    </tr>\n",
       "  </thead>\n",
       "  <tbody>\n",
       "    <tr>\n",
       "      <th>0</th>\n",
       "      <td>SIFT</td>\n",
       "      <td>0.902808</td>\n",
       "      <td>0.908984</td>\n",
       "    </tr>\n",
       "    <tr>\n",
       "      <th>1</th>\n",
       "      <td>KAZE</td>\n",
       "      <td>0.672812</td>\n",
       "      <td>0.685441</td>\n",
       "    </tr>\n",
       "  </tbody>\n",
       "</table>\n",
       "</div>"
      ],
      "text/plain": [
       "  Feature Type  Logistic Accuracy  SVM Accuracy\n",
       "0         SIFT           0.902808      0.908984\n",
       "1         KAZE           0.672812      0.685441"
      ]
     },
     "execution_count": 14,
     "metadata": {},
     "output_type": "execute_result"
    }
   ],
   "source": [
    "%%time\n",
    "ll = ['SIFT', 'KAZE']\n",
    "log_acc = []\n",
    "svc_acc = []\n",
    "for itr in ll:\n",
    "    LF = LocalFeature(feature_type = itr, cluster_size = 50, test_size = 0.25, image_type = 'original')\n",
    "    x_train, x_test, y_train, y_test = LF.fit(np_img)\n",
    "    log_acc.append(LogisticModel(x_train, x_test, y_train, y_test))\n",
    "    svc_acc.append(SVMModel(x_train, x_test, y_train, y_test))\n",
    "    print(\"Training Done\")\n",
    "\n",
    "    \n",
    "df = pd.DataFrame({'Feature Type' : ll , \"Logistic Accuracy\" : log_acc, \"SVM Accuracy\": svc_acc})\n",
    "df"
   ]
  },
  {
   "cell_type": "code",
   "execution_count": 9,
   "id": "eeeaf37a",
   "metadata": {},
   "outputs": [
    {
     "name": "stdout",
     "output_type": "stream",
     "text": [
      "18154 18154\n",
      "For Preprocessing : ['canny', 'clahe', 'scharr', 'sobel']\n",
      "Logistic Accuracy : 0.8197840934126459\n",
      "SVM Accuracy 0.82088565763384\n",
      "27543 27543\n",
      "For Preprocessing : ['canny', 'clahe', 'scharr', 'sobel']\n",
      "Logistic Accuracy : 0.8613128085971536\n",
      "SVM Accuracy 0.8768515829218705\n",
      "17841 17841\n",
      "For Preprocessing : ['canny', 'clahe', 'scharr', 'sobel']\n",
      "Logistic Accuracy : 0.7953373683030711\n",
      "SVM Accuracy 0.8058731226182471\n",
      "18881 18881\n",
      "For Preprocessing : ['canny', 'clahe', 'scharr', 'sobel']\n",
      "Logistic Accuracy : 0.7968650709595425\n",
      "SVM Accuracy 0.8013132810845159\n",
      "CPU times: user 26min 32s, sys: 4min 28s, total: 31min\n",
      "Wall time: 8min 52s\n"
     ]
    },
    {
     "data": {
      "text/html": [
       "<div>\n",
       "<style scoped>\n",
       "    .dataframe tbody tr th:only-of-type {\n",
       "        vertical-align: middle;\n",
       "    }\n",
       "\n",
       "    .dataframe tbody tr th {\n",
       "        vertical-align: top;\n",
       "    }\n",
       "\n",
       "    .dataframe thead th {\n",
       "        text-align: right;\n",
       "    }\n",
       "</style>\n",
       "<table border=\"1\" class=\"dataframe\">\n",
       "  <thead>\n",
       "    <tr style=\"text-align: right;\">\n",
       "      <th></th>\n",
       "      <th>Feature Type</th>\n",
       "      <th>Logistic Accuracy</th>\n",
       "      <th>SVM Accuracy</th>\n",
       "    </tr>\n",
       "  </thead>\n",
       "  <tbody>\n",
       "    <tr>\n",
       "      <th>0</th>\n",
       "      <td>canny</td>\n",
       "      <td>0.819784</td>\n",
       "      <td>0.820886</td>\n",
       "    </tr>\n",
       "    <tr>\n",
       "      <th>1</th>\n",
       "      <td>clahe</td>\n",
       "      <td>0.861313</td>\n",
       "      <td>0.876852</td>\n",
       "    </tr>\n",
       "    <tr>\n",
       "      <th>2</th>\n",
       "      <td>scharr</td>\n",
       "      <td>0.795337</td>\n",
       "      <td>0.805873</td>\n",
       "    </tr>\n",
       "    <tr>\n",
       "      <th>3</th>\n",
       "      <td>sobel</td>\n",
       "      <td>0.796865</td>\n",
       "      <td>0.801313</td>\n",
       "    </tr>\n",
       "  </tbody>\n",
       "</table>\n",
       "</div>"
      ],
      "text/plain": [
       "  Feature Type  Logistic Accuracy  SVM Accuracy\n",
       "0        canny           0.819784      0.820886\n",
       "1        clahe           0.861313      0.876852\n",
       "2       scharr           0.795337      0.805873\n",
       "3        sobel           0.796865      0.801313"
      ]
     },
     "execution_count": 9,
     "metadata": {},
     "output_type": "execute_result"
    }
   ],
   "source": [
    "%%time\n",
    "ll = ['canny', 'clahe', 'scharr', 'sobel']\n",
    "log_acc = []\n",
    "svc_acc = []\n",
    "for idx, itr in enumerate(ll):\n",
    "    LF = LocalFeature(feature_type = 'SIFT', cluster_size = 50, test_size = 0.25, image_type = 'filtered')\n",
    "    if itr == 'canny':\n",
    "        data = preprocessing.canny_preprocessing(gray_image, 27558)\n",
    "    elif itr == 'clahe':\n",
    "        data = preprocessing.clahe_preprocessing(gray_image, 27558)\n",
    "    elif itr == 'scharr':\n",
    "        data = preprocessing.scharr_preprocessing(gray_image, 27558)\n",
    "    elif itr == 'sobel':\n",
    "        data = preprocessing.sobel_preprocessing(gray_image, 27558)\n",
    "    img = preprocessing.resize_image(data, 27558, 64)\n",
    "    x_train, x_test, y_train, y_test = LF.fit(img)\n",
    "    log_acc.append(LogisticModel(x_train, x_test, y_train, y_test))\n",
    "    svc_acc.append(SVMModel(x_train, x_test, y_train, y_test))\n",
    "    print(\"For Preprocessing :\", ll)\n",
    "    print(\"Logistic Accuracy :\", log_acc[idx])\n",
    "    print(\"SVM Accuracy\", svc_acc[idx])\n",
    "    \n",
    "    \n",
    "df = pd.DataFrame({'Feature Type' : ll , \"Logistic Accuracy\" : log_acc, \"SVM Accuracy\": svc_acc})\n",
    "df"
   ]
  },
  {
   "cell_type": "code",
   "execution_count": 11,
   "id": "2b82c909",
   "metadata": {},
   "outputs": [
    {
     "name": "stdout",
     "output_type": "stream",
     "text": [
      "21234 21234\n",
      "For Preprocessing : ['canny', 'clahe', 'scharr', 'sobel']\n",
      "Logistic Accuracy : 0.7532491994725937\n",
      "SVM Accuracy 0.7534375588623092\n",
      "27558 27558\n",
      "For Preprocessing : ['canny', 'clahe', 'scharr', 'sobel']\n",
      "Logistic Accuracy : 0.7936139332365747\n",
      "SVM Accuracy 0.8015965166908563\n",
      "26550 26550\n",
      "For Preprocessing : ['canny', 'clahe', 'scharr', 'sobel']\n",
      "Logistic Accuracy : 0.6780656824344682\n",
      "SVM Accuracy 0.6925278698403133\n",
      "26621 26621\n",
      "For Preprocessing : ['canny', 'clahe', 'scharr', 'sobel']\n",
      "Logistic Accuracy : 0.6850961538461539\n",
      "SVM Accuracy 0.6935096153846154\n",
      "CPU times: user 20min 25s, sys: 2min 14s, total: 22min 39s\n",
      "Wall time: 9min 28s\n"
     ]
    },
    {
     "data": {
      "text/html": [
       "<div>\n",
       "<style scoped>\n",
       "    .dataframe tbody tr th:only-of-type {\n",
       "        vertical-align: middle;\n",
       "    }\n",
       "\n",
       "    .dataframe tbody tr th {\n",
       "        vertical-align: top;\n",
       "    }\n",
       "\n",
       "    .dataframe thead th {\n",
       "        text-align: right;\n",
       "    }\n",
       "</style>\n",
       "<table border=\"1\" class=\"dataframe\">\n",
       "  <thead>\n",
       "    <tr style=\"text-align: right;\">\n",
       "      <th></th>\n",
       "      <th>Feature Type</th>\n",
       "      <th>Logistic Accuracy</th>\n",
       "      <th>SVM Accuracy</th>\n",
       "    </tr>\n",
       "  </thead>\n",
       "  <tbody>\n",
       "    <tr>\n",
       "      <th>0</th>\n",
       "      <td>canny</td>\n",
       "      <td>0.753249</td>\n",
       "      <td>0.753438</td>\n",
       "    </tr>\n",
       "    <tr>\n",
       "      <th>1</th>\n",
       "      <td>clahe</td>\n",
       "      <td>0.793614</td>\n",
       "      <td>0.801597</td>\n",
       "    </tr>\n",
       "    <tr>\n",
       "      <th>2</th>\n",
       "      <td>scharr</td>\n",
       "      <td>0.678066</td>\n",
       "      <td>0.692528</td>\n",
       "    </tr>\n",
       "    <tr>\n",
       "      <th>3</th>\n",
       "      <td>sobel</td>\n",
       "      <td>0.685096</td>\n",
       "      <td>0.693510</td>\n",
       "    </tr>\n",
       "  </tbody>\n",
       "</table>\n",
       "</div>"
      ],
      "text/plain": [
       "  Feature Type  Logistic Accuracy  SVM Accuracy\n",
       "0        canny           0.753249      0.753438\n",
       "1        clahe           0.793614      0.801597\n",
       "2       scharr           0.678066      0.692528\n",
       "3        sobel           0.685096      0.693510"
      ]
     },
     "execution_count": 11,
     "metadata": {},
     "output_type": "execute_result"
    }
   ],
   "source": [
    "%%time\n",
    "ll = ['canny', 'clahe', 'scharr', 'sobel']\n",
    "log_acc = []\n",
    "svc_acc = []\n",
    "for idx, itr in enumerate(ll):\n",
    "    LF = LocalFeature(feature_type = 'KAZE', cluster_size = 20, test_size = 0.25, image_type = 'filtered')\n",
    "    if itr == 'canny':\n",
    "        data = preprocessing.canny_preprocessing(gray_image, 27558)\n",
    "    elif itr == 'clahe':\n",
    "        data = preprocessing.clahe_preprocessing(gray_image, 27558)\n",
    "    elif itr == 'scharr':\n",
    "        data = preprocessing.scharr_preprocessing(gray_image, 27558)\n",
    "    elif itr == 'sobel':\n",
    "        data = preprocessing.sobel_preprocessing(gray_image, 27558)\n",
    "    img = preprocessing.resize_image(data, 27558, 64)\n",
    "    x_train, x_test, y_train, y_test = LF.fit(img)\n",
    "    log_acc.append(LogisticModel(x_train, x_test, y_train, y_test))\n",
    "    svc_acc.append(SVMModel(x_train, x_test, y_train, y_test))\n",
    "    print(\"For Preprocessing :\", ll)\n",
    "    print(\"Logistic Accuracy :\", log_acc[idx])\n",
    "    print(\"SVM Accuracy\", svc_acc[idx])\n",
    "    \n",
    "    \n",
    "df = pd.DataFrame({'Feature Type' : ll , \"Logistic Accuracy\" : log_acc, \"SVM Accuracy\": svc_acc})\n",
    "df"
   ]
  },
  {
   "cell_type": "markdown",
   "id": "ba95da22",
   "metadata": {},
   "source": [
    "<h1>Grid Search CV"
   ]
  },
  {
   "cell_type": "code",
   "execution_count": 161,
   "id": "ad713b1f",
   "metadata": {},
   "outputs": [],
   "source": [
    "grid_search_df = pd.DataFrame(columns = ['Accuracy', 'Precision', 'Recall','F1'], \n",
    "                   index = ['SIFT BOVW', 'scharr', 'sobel'])"
   ]
  },
  {
   "cell_type": "code",
   "execution_count": 162,
   "id": "806d5a15",
   "metadata": {},
   "outputs": [
    {
     "name": "stdout",
     "output_type": "stream",
     "text": [
      "Fitting 5 folds for each of 20 candidates, totalling 100 fits\n",
      "[CV 1/5] END ...............C=0.01, kernel=poly;, score=0.793 total time=  55.7s\n",
      "[CV 2/5] END ...............C=0.01, kernel=poly;, score=0.795 total time=  54.9s\n",
      "[CV 3/5] END ...............C=0.01, kernel=poly;, score=0.776 total time=  54.7s\n",
      "[CV 4/5] END ...............C=0.01, kernel=poly;, score=0.794 total time=  55.8s\n",
      "[CV 5/5] END ...............C=0.01, kernel=poly;, score=0.789 total time= 3.8min\n",
      "[CV 1/5] END ................C=0.01, kernel=rbf;, score=0.852 total time= 1.1min\n",
      "[CV 2/5] END ................C=0.01, kernel=rbf;, score=0.854 total time= 2.2min\n",
      "[CV 3/5] END ................C=0.01, kernel=rbf;, score=0.841 total time= 1.2min\n",
      "[CV 4/5] END ................C=0.01, kernel=rbf;, score=0.852 total time= 1.2min\n",
      "[CV 5/5] END ................C=0.01, kernel=rbf;, score=0.844 total time= 1.1min\n",
      "[CV 1/5] END C=0.021544346900318832, kernel=poly;, score=0.817 total time=  54.0s\n",
      "[CV 2/5] END C=0.021544346900318832, kernel=poly;, score=0.820 total time=  50.6s\n",
      "[CV 3/5] END C=0.021544346900318832, kernel=poly;, score=0.805 total time=  52.6s\n",
      "[CV 4/5] END C=0.021544346900318832, kernel=poly;, score=0.818 total time=  56.3s\n",
      "[CV 5/5] END C=0.021544346900318832, kernel=poly;, score=0.816 total time=  52.4s\n",
      "[CV 1/5] END C=0.021544346900318832, kernel=rbf;, score=0.860 total time=  58.6s\n",
      "[CV 2/5] END C=0.021544346900318832, kernel=rbf;, score=0.863 total time=  59.1s\n",
      "[CV 3/5] END C=0.021544346900318832, kernel=rbf;, score=0.847 total time=  57.2s\n",
      "[CV 4/5] END C=0.021544346900318832, kernel=rbf;, score=0.863 total time=  59.0s\n",
      "[CV 5/5] END C=0.021544346900318832, kernel=rbf;, score=0.851 total time= 1.0min\n",
      "[CV 1/5] END C=0.046415888336127774, kernel=poly;, score=0.837 total time=  50.3s\n",
      "[CV 2/5] END C=0.046415888336127774, kernel=poly;, score=0.842 total time=  48.3s\n",
      "[CV 3/5] END C=0.046415888336127774, kernel=poly;, score=0.824 total time=  51.6s\n",
      "[CV 4/5] END C=0.046415888336127774, kernel=poly;, score=0.841 total time=  54.2s\n",
      "[CV 5/5] END C=0.046415888336127774, kernel=poly;, score=0.835 total time=  51.0s\n",
      "[CV 1/5] END C=0.046415888336127774, kernel=rbf;, score=0.865 total time=  54.0s\n",
      "[CV 2/5] END C=0.046415888336127774, kernel=rbf;, score=0.871 total time=  56.2s\n",
      "[CV 3/5] END C=0.046415888336127774, kernel=rbf;, score=0.854 total time=  53.6s\n",
      "[CV 4/5] END C=0.046415888336127774, kernel=rbf;, score=0.871 total time=  54.4s\n",
      "[CV 5/5] END C=0.046415888336127774, kernel=rbf;, score=0.860 total time=  54.9s\n",
      "[CV 1/5] END ................C=0.1, kernel=poly;, score=0.856 total time=  47.8s\n",
      "[CV 2/5] END ................C=0.1, kernel=poly;, score=0.860 total time=  45.2s\n",
      "[CV 3/5] END ................C=0.1, kernel=poly;, score=0.839 total time=  45.1s\n",
      "[CV 4/5] END ................C=0.1, kernel=poly;, score=0.860 total time=  45.8s\n",
      "[CV 5/5] END ................C=0.1, kernel=poly;, score=0.854 total time=  47.4s\n",
      "[CV 1/5] END .................C=0.1, kernel=rbf;, score=0.873 total time=  51.5s\n",
      "[CV 2/5] END .................C=0.1, kernel=rbf;, score=0.877 total time=  53.0s\n",
      "[CV 3/5] END .................C=0.1, kernel=rbf;, score=0.862 total time=  48.9s\n",
      "[CV 4/5] END .................C=0.1, kernel=rbf;, score=0.875 total time=  48.6s\n",
      "[CV 5/5] END .................C=0.1, kernel=rbf;, score=0.867 total time=  47.8s\n",
      "[CV 1/5] END C=0.21544346900318834, kernel=poly;, score=0.863 total time=  43.8s\n",
      "[CV 2/5] END C=0.21544346900318834, kernel=poly;, score=0.867 total time=  44.4s\n",
      "[CV 3/5] END C=0.21544346900318834, kernel=poly;, score=0.851 total time=  43.0s\n",
      "[CV 4/5] END C=0.21544346900318834, kernel=poly;, score=0.867 total time=  44.9s\n",
      "[CV 5/5] END C=0.21544346900318834, kernel=poly;, score=0.864 total time=  44.4s\n",
      "[CV 1/5] END .C=0.21544346900318834, kernel=rbf;, score=0.880 total time=  46.5s\n",
      "[CV 2/5] END .C=0.21544346900318834, kernel=rbf;, score=0.887 total time=  46.8s\n",
      "[CV 3/5] END .C=0.21544346900318834, kernel=rbf;, score=0.870 total time=  44.5s\n",
      "[CV 4/5] END .C=0.21544346900318834, kernel=rbf;, score=0.881 total time=  45.6s\n",
      "[CV 5/5] END .C=0.21544346900318834, kernel=rbf;, score=0.879 total time=  45.1s\n",
      "[CV 1/5] END C=0.46415888336127775, kernel=poly;, score=0.866 total time=  44.3s\n",
      "[CV 2/5] END C=0.46415888336127775, kernel=poly;, score=0.872 total time=  43.5s\n",
      "[CV 3/5] END C=0.46415888336127775, kernel=poly;, score=0.858 total time=  42.7s\n",
      "[CV 4/5] END C=0.46415888336127775, kernel=poly;, score=0.872 total time=  43.5s\n",
      "[CV 5/5] END C=0.46415888336127775, kernel=poly;, score=0.870 total time=  43.9s\n",
      "[CV 1/5] END .C=0.46415888336127775, kernel=rbf;, score=0.891 total time=  42.4s\n",
      "[CV 2/5] END .C=0.46415888336127775, kernel=rbf;, score=0.896 total time=  43.0s\n",
      "[CV 3/5] END .C=0.46415888336127775, kernel=rbf;, score=0.877 total time=  42.3s\n",
      "[CV 4/5] END .C=0.46415888336127775, kernel=rbf;, score=0.894 total time=  42.8s\n",
      "[CV 5/5] END .C=0.46415888336127775, kernel=rbf;, score=0.890 total time=  42.1s\n",
      "[CV 1/5] END ................C=1.0, kernel=poly;, score=0.870 total time=  44.6s\n",
      "[CV 2/5] END ................C=1.0, kernel=poly;, score=0.875 total time=  44.7s\n",
      "[CV 3/5] END ................C=1.0, kernel=poly;, score=0.864 total time=  43.4s\n",
      "[CV 4/5] END ................C=1.0, kernel=poly;, score=0.874 total time=  44.1s\n",
      "[CV 5/5] END ................C=1.0, kernel=poly;, score=0.871 total time=  44.3s\n",
      "[CV 1/5] END .................C=1.0, kernel=rbf;, score=0.901 total time=  40.6s\n",
      "[CV 2/5] END .................C=1.0, kernel=rbf;, score=0.901 total time=  40.7s\n",
      "[CV 3/5] END .................C=1.0, kernel=rbf;, score=0.890 total time=  39.7s\n",
      "[CV 4/5] END .................C=1.0, kernel=rbf;, score=0.899 total time=  40.6s\n",
      "[CV 5/5] END .................C=1.0, kernel=rbf;, score=0.898 total time=  39.9s\n",
      "[CV 1/5] END ..C=2.154434690031882, kernel=poly;, score=0.870 total time=  46.1s\n",
      "[CV 2/5] END ..C=2.154434690031882, kernel=poly;, score=0.879 total time=  47.2s\n",
      "[CV 3/5] END ..C=2.154434690031882, kernel=poly;, score=0.870 total time=  44.4s\n",
      "[CV 4/5] END ..C=2.154434690031882, kernel=poly;, score=0.879 total time=  47.1s\n",
      "[CV 5/5] END ..C=2.154434690031882, kernel=poly;, score=0.873 total time=  46.4s\n",
      "[CV 1/5] END ...C=2.154434690031882, kernel=rbf;, score=0.906 total time=  38.9s\n",
      "[CV 2/5] END ...C=2.154434690031882, kernel=rbf;, score=0.906 total time=  39.5s\n",
      "[CV 3/5] END ...C=2.154434690031882, kernel=rbf;, score=0.896 total time=  38.7s\n",
      "[CV 4/5] END ...C=2.154434690031882, kernel=rbf;, score=0.905 total time=  40.4s\n",
      "[CV 5/5] END ...C=2.154434690031882, kernel=rbf;, score=0.902 total time=  39.2s\n",
      "[CV 1/5] END .C=4.6415888336127775, kernel=poly;, score=0.874 total time=  50.9s\n",
      "[CV 2/5] END .C=4.6415888336127775, kernel=poly;, score=0.883 total time=  52.0s\n",
      "[CV 3/5] END .C=4.6415888336127775, kernel=poly;, score=0.871 total time=  50.7s\n",
      "[CV 4/5] END .C=4.6415888336127775, kernel=poly;, score=0.880 total time=  52.6s\n",
      "[CV 5/5] END .C=4.6415888336127775, kernel=poly;, score=0.875 total time=  51.0s\n",
      "[CV 1/5] END ..C=4.6415888336127775, kernel=rbf;, score=0.911 total time=  39.9s\n",
      "[CV 2/5] END ..C=4.6415888336127775, kernel=rbf;, score=0.906 total time=  39.2s\n",
      "[CV 3/5] END ..C=4.6415888336127775, kernel=rbf;, score=0.899 total time=  39.7s\n",
      "[CV 4/5] END ..C=4.6415888336127775, kernel=rbf;, score=0.908 total time=  38.7s\n",
      "[CV 5/5] END ..C=4.6415888336127775, kernel=rbf;, score=0.906 total time=  40.9s\n",
      "[CV 1/5] END ...............C=10.0, kernel=poly;, score=0.880 total time=  59.6s\n",
      "[CV 2/5] END ...............C=10.0, kernel=poly;, score=0.889 total time= 1.0min\n",
      "[CV 3/5] END ...............C=10.0, kernel=poly;, score=0.876 total time=  57.7s\n",
      "[CV 4/5] END ...............C=10.0, kernel=poly;, score=0.886 total time= 1.1min\n",
      "[CV 5/5] END ...............C=10.0, kernel=poly;, score=0.881 total time= 1.0min\n",
      "[CV 1/5] END ................C=10.0, kernel=rbf;, score=0.911 total time=  39.9s\n",
      "[CV 2/5] END ................C=10.0, kernel=rbf;, score=0.909 total time=  40.6s\n",
      "[CV 3/5] END ................C=10.0, kernel=rbf;, score=0.903 total time=  38.4s\n",
      "[CV 4/5] END ................C=10.0, kernel=rbf;, score=0.911 total time=  38.3s\n",
      "[CV 5/5] END ................C=10.0, kernel=rbf;, score=0.906 total time=  37.2s\n",
      "Successfully saved features\n",
      "Training Done for : scharr\n",
      "Fitting 5 folds for each of 20 candidates, totalling 100 fits\n"
     ]
    },
    {
     "name": "stdout",
     "output_type": "stream",
     "text": [
      "[CV 1/5] END ...............C=0.01, kernel=poly;, score=0.803 total time=  57.0s\n",
      "[CV 2/5] END ...............C=0.01, kernel=poly;, score=0.806 total time=  55.5s\n",
      "[CV 3/5] END ...............C=0.01, kernel=poly;, score=0.784 total time=  56.8s\n",
      "[CV 4/5] END ...............C=0.01, kernel=poly;, score=0.804 total time=  55.4s\n",
      "[CV 5/5] END ...............C=0.01, kernel=poly;, score=0.804 total time=  55.1s\n",
      "[CV 1/5] END ................C=0.01, kernel=rbf;, score=0.855 total time= 1.1min\n",
      "[CV 2/5] END ................C=0.01, kernel=rbf;, score=0.859 total time= 1.1min\n",
      "[CV 3/5] END ................C=0.01, kernel=rbf;, score=0.841 total time= 1.1min\n",
      "[CV 4/5] END ................C=0.01, kernel=rbf;, score=0.859 total time= 1.1min\n",
      "[CV 5/5] END ................C=0.01, kernel=rbf;, score=0.848 total time= 1.1min\n",
      "[CV 1/5] END C=0.021544346900318832, kernel=poly;, score=0.828 total time=  51.2s\n",
      "[CV 2/5] END C=0.021544346900318832, kernel=poly;, score=0.832 total time=  50.8s\n",
      "[CV 3/5] END C=0.021544346900318832, kernel=poly;, score=0.814 total time=  52.1s\n",
      "[CV 4/5] END C=0.021544346900318832, kernel=poly;, score=0.828 total time=  51.4s\n",
      "[CV 5/5] END C=0.021544346900318832, kernel=poly;, score=0.827 total time=  52.0s\n",
      "[CV 1/5] END C=0.021544346900318832, kernel=rbf;, score=0.866 total time=  59.5s\n",
      "[CV 2/5] END C=0.021544346900318832, kernel=rbf;, score=0.868 total time=  58.1s\n",
      "[CV 3/5] END C=0.021544346900318832, kernel=rbf;, score=0.852 total time=  56.7s\n",
      "[CV 4/5] END C=0.021544346900318832, kernel=rbf;, score=0.871 total time=  58.1s\n",
      "[CV 5/5] END C=0.021544346900318832, kernel=rbf;, score=0.856 total time=  57.1s\n",
      "[CV 1/5] END C=0.046415888336127774, kernel=poly;, score=0.851 total time=  55.1s\n",
      "[CV 2/5] END C=0.046415888336127774, kernel=poly;, score=0.859 total time=  49.4s\n",
      "[CV 3/5] END C=0.046415888336127774, kernel=poly;, score=0.839 total time=  49.0s\n",
      "[CV 4/5] END C=0.046415888336127774, kernel=poly;, score=0.853 total time=  48.4s\n",
      "[CV 5/5] END C=0.046415888336127774, kernel=poly;, score=0.845 total time=  49.4s\n",
      "[CV 1/5] END C=0.046415888336127774, kernel=rbf;, score=0.869 total time=  52.7s\n",
      "[CV 2/5] END C=0.046415888336127774, kernel=rbf;, score=0.876 total time=  54.8s\n",
      "[CV 3/5] END C=0.046415888336127774, kernel=rbf;, score=0.861 total time=  55.1s\n",
      "[CV 4/5] END C=0.046415888336127774, kernel=rbf;, score=0.874 total time=  53.2s\n",
      "[CV 5/5] END C=0.046415888336127774, kernel=rbf;, score=0.863 total time=  52.2s\n",
      "[CV 1/5] END ................C=0.1, kernel=poly;, score=0.862 total time=  45.9s\n",
      "[CV 2/5] END ................C=0.1, kernel=poly;, score=0.868 total time=  45.8s\n",
      "[CV 3/5] END ................C=0.1, kernel=poly;, score=0.850 total time=  45.0s\n",
      "[CV 4/5] END ................C=0.1, kernel=poly;, score=0.863 total time=  46.1s\n",
      "[CV 5/5] END ................C=0.1, kernel=poly;, score=0.862 total time=  44.5s\n",
      "[CV 1/5] END .................C=0.1, kernel=rbf;, score=0.877 total time=  47.3s\n",
      "[CV 2/5] END .................C=0.1, kernel=rbf;, score=0.885 total time=  47.8s\n",
      "[CV 3/5] END .................C=0.1, kernel=rbf;, score=0.867 total time=  46.8s\n",
      "[CV 4/5] END .................C=0.1, kernel=rbf;, score=0.880 total time=  47.8s\n",
      "[CV 5/5] END .................C=0.1, kernel=rbf;, score=0.875 total time=  46.8s\n",
      "[CV 1/5] END C=0.21544346900318834, kernel=poly;, score=0.869 total time=  43.3s\n",
      "[CV 2/5] END C=0.21544346900318834, kernel=poly;, score=0.874 total time=  43.4s\n",
      "[CV 3/5] END C=0.21544346900318834, kernel=poly;, score=0.860 total time=  42.4s\n",
      "[CV 4/5] END C=0.21544346900318834, kernel=poly;, score=0.870 total time=  43.1s\n",
      "[CV 5/5] END C=0.21544346900318834, kernel=poly;, score=0.867 total time=  42.8s\n",
      "[CV 1/5] END .C=0.21544346900318834, kernel=rbf;, score=0.890 total time=  45.5s\n",
      "[CV 2/5] END .C=0.21544346900318834, kernel=rbf;, score=0.897 total time=  45.7s\n",
      "[CV 3/5] END .C=0.21544346900318834, kernel=rbf;, score=0.877 total time=  43.5s\n",
      "[CV 4/5] END .C=0.21544346900318834, kernel=rbf;, score=0.889 total time=  44.5s\n",
      "[CV 5/5] END .C=0.21544346900318834, kernel=rbf;, score=0.886 total time=  48.9s\n",
      "[CV 1/5] END C=0.46415888336127775, kernel=poly;, score=0.872 total time=  46.3s\n",
      "[CV 2/5] END C=0.46415888336127775, kernel=poly;, score=0.877 total time=  43.4s\n",
      "[CV 3/5] END C=0.46415888336127775, kernel=poly;, score=0.867 total time=  42.2s\n",
      "[CV 4/5] END C=0.46415888336127775, kernel=poly;, score=0.878 total time=  43.3s\n",
      "[CV 5/5] END C=0.46415888336127775, kernel=poly;, score=0.874 total time=  42.9s\n",
      "[CV 1/5] END .C=0.46415888336127775, kernel=rbf;, score=0.905 total time=  41.3s\n",
      "[CV 2/5] END .C=0.46415888336127775, kernel=rbf;, score=0.908 total time=  42.0s\n",
      "[CV 3/5] END .C=0.46415888336127775, kernel=rbf;, score=0.890 total time=  40.5s\n",
      "[CV 4/5] END .C=0.46415888336127775, kernel=rbf;, score=0.900 total time=  41.4s\n",
      "[CV 5/5] END .C=0.46415888336127775, kernel=rbf;, score=0.898 total time=  40.9s\n",
      "[CV 1/5] END ................C=1.0, kernel=poly;, score=0.877 total time=  42.9s\n",
      "[CV 2/5] END ................C=1.0, kernel=poly;, score=0.882 total time=  43.6s\n",
      "[CV 3/5] END ................C=1.0, kernel=poly;, score=0.873 total time=  43.0s\n",
      "[CV 4/5] END ................C=1.0, kernel=poly;, score=0.880 total time=  43.7s\n",
      "[CV 5/5] END ................C=1.0, kernel=poly;, score=0.880 total time=  42.2s\n",
      "[CV 1/5] END .................C=1.0, kernel=rbf;, score=0.911 total time=  38.6s\n",
      "[CV 2/5] END .................C=1.0, kernel=rbf;, score=0.916 total time=  39.0s\n",
      "[CV 3/5] END .................C=1.0, kernel=rbf;, score=0.901 total time=  37.9s\n",
      "[CV 4/5] END .................C=1.0, kernel=rbf;, score=0.908 total time=  39.6s\n",
      "[CV 5/5] END .................C=1.0, kernel=rbf;, score=0.909 total time=  40.7s\n",
      "[CV 1/5] END ..C=2.154434690031882, kernel=poly;, score=0.881 total time=  46.1s\n",
      "[CV 2/5] END ..C=2.154434690031882, kernel=poly;, score=0.890 total time=  55.0s\n",
      "[CV 3/5] END ..C=2.154434690031882, kernel=poly;, score=0.877 total time=  44.5s\n",
      "[CV 4/5] END ..C=2.154434690031882, kernel=poly;, score=0.883 total time=  46.6s\n",
      "[CV 5/5] END ..C=2.154434690031882, kernel=poly;, score=0.882 total time=  45.3s\n",
      "[CV 1/5] END ...C=2.154434690031882, kernel=rbf;, score=0.918 total time=  37.1s\n",
      "[CV 2/5] END ...C=2.154434690031882, kernel=rbf;, score=0.920 total time=  37.9s\n",
      "[CV 3/5] END ...C=2.154434690031882, kernel=rbf;, score=0.905 total time=  36.4s\n",
      "[CV 4/5] END ...C=2.154434690031882, kernel=rbf;, score=0.915 total time=  36.6s\n",
      "[CV 5/5] END ...C=2.154434690031882, kernel=rbf;, score=0.913 total time=  36.1s\n",
      "[CV 1/5] END .C=4.6415888336127775, kernel=poly;, score=0.888 total time=  48.9s\n",
      "[CV 2/5] END .C=4.6415888336127775, kernel=poly;, score=0.895 total time=  50.7s\n",
      "[CV 3/5] END .C=4.6415888336127775, kernel=poly;, score=0.881 total time=  47.4s\n",
      "[CV 4/5] END .C=4.6415888336127775, kernel=poly;, score=0.887 total time=  48.9s\n",
      "[CV 5/5] END .C=4.6415888336127775, kernel=poly;, score=0.888 total time=  48.3s\n",
      "[CV 1/5] END ..C=4.6415888336127775, kernel=rbf;, score=0.920 total time=  34.8s\n",
      "[CV 2/5] END ..C=4.6415888336127775, kernel=rbf;, score=0.922 total time=  36.2s\n",
      "[CV 3/5] END ..C=4.6415888336127775, kernel=rbf;, score=0.911 total time=  35.4s\n",
      "[CV 4/5] END ..C=4.6415888336127775, kernel=rbf;, score=0.918 total time=  34.8s\n",
      "[CV 5/5] END ..C=4.6415888336127775, kernel=rbf;, score=0.916 total time=  35.5s\n",
      "[CV 1/5] END ...............C=10.0, kernel=poly;, score=0.892 total time=  55.0s\n",
      "[CV 2/5] END ...............C=10.0, kernel=poly;, score=0.902 total time=  59.1s\n",
      "[CV 3/5] END ...............C=10.0, kernel=poly;, score=0.888 total time=  56.3s\n",
      "[CV 4/5] END ...............C=10.0, kernel=poly;, score=0.893 total time=  56.3s\n",
      "[CV 5/5] END ...............C=10.0, kernel=poly;, score=0.896 total time=  56.8s\n",
      "[CV 1/5] END ................C=10.0, kernel=rbf;, score=0.923 total time=  34.7s\n",
      "[CV 2/5] END ................C=10.0, kernel=rbf;, score=0.920 total time=  34.8s\n",
      "[CV 3/5] END ................C=10.0, kernel=rbf;, score=0.915 total time=  33.9s\n",
      "[CV 4/5] END ................C=10.0, kernel=rbf;, score=0.918 total time=  34.3s\n",
      "[CV 5/5] END ................C=10.0, kernel=rbf;, score=0.917 total time=  34.2s\n",
      "Successfully saved features\n",
      "Training Done for : sobel\n"
     ]
    }
   ],
   "source": [
    "parameters = {'kernel':('poly', 'rbf'), 'C': np.logspace(-2, 1, num = 10)}\n",
    "from sklearn.svm import SVC\n",
    "from sklearn.model_selection import GridSearchCV\n",
    "ll = ['scharr', 'sobel']\n",
    "for itr in ll:\n",
    "    filename = './features_pkl/global_'+ itr + '_image_features.pkl'\n",
    "    data = load_feature(filename)\n",
    "    x_train, x_test, y_train, y_test = train_test_split(data, label, test_size=0.25, random_state=42)\n",
    "    x_train = StandardScaling(x_train,x_train)\n",
    "    svc = SVC(probability = True)\n",
    "    clf = GridSearchCV(svc, parameters, refit = True, cv = 5, verbose = 3)\n",
    "    clf.fit(x_train, y_train)\n",
    "    save_filename = './features_pkl/global_'+ itr + '_image_features_grid_search.pkl'\n",
    "    save_feature(clf, save_filename)\n",
    "    print(\"Training Done for :\", itr)"
   ]
  },
  {
   "cell_type": "code",
   "execution_count": 163,
   "id": "1c086185",
   "metadata": {},
   "outputs": [
    {
     "name": "stdout",
     "output_type": "stream",
     "text": [
      "27204 27204\n",
      "Fitting 5 folds for each of 20 candidates, totalling 100 fits\n",
      "[CV 1/5] END ...............C=0.01, kernel=poly;, score=0.611 total time= 1.1min\n",
      "[CV 2/5] END ...............C=0.01, kernel=poly;, score=0.618 total time= 1.1min\n",
      "[CV 3/5] END ...............C=0.01, kernel=poly;, score=0.613 total time= 1.1min\n",
      "[CV 4/5] END ...............C=0.01, kernel=poly;, score=0.621 total time= 1.1min\n",
      "[CV 5/5] END ...............C=0.01, kernel=poly;, score=0.618 total time= 1.1min\n",
      "[CV 1/5] END ................C=0.01, kernel=rbf;, score=0.870 total time= 1.2min\n",
      "[CV 2/5] END ................C=0.01, kernel=rbf;, score=0.873 total time= 1.2min\n",
      "[CV 3/5] END ................C=0.01, kernel=rbf;, score=0.858 total time= 1.2min\n",
      "[CV 4/5] END ................C=0.01, kernel=rbf;, score=0.860 total time= 1.2min\n",
      "[CV 5/5] END ................C=0.01, kernel=rbf;, score=0.867 total time= 1.2min\n",
      "[CV 1/5] END C=0.021544346900318832, kernel=poly;, score=0.660 total time= 1.1min\n",
      "[CV 2/5] END C=0.021544346900318832, kernel=poly;, score=0.669 total time= 1.1min\n",
      "[CV 3/5] END C=0.021544346900318832, kernel=poly;, score=0.665 total time= 1.1min\n",
      "[CV 4/5] END C=0.021544346900318832, kernel=poly;, score=0.671 total time= 1.1min\n",
      "[CV 5/5] END C=0.021544346900318832, kernel=poly;, score=0.672 total time= 1.1min\n",
      "[CV 1/5] END C=0.021544346900318832, kernel=rbf;, score=0.881 total time= 1.0min\n",
      "[CV 2/5] END C=0.021544346900318832, kernel=rbf;, score=0.884 total time= 1.1min\n",
      "[CV 3/5] END C=0.021544346900318832, kernel=rbf;, score=0.872 total time= 1.1min\n",
      "[CV 4/5] END C=0.021544346900318832, kernel=rbf;, score=0.875 total time= 1.0min\n",
      "[CV 5/5] END C=0.021544346900318832, kernel=rbf;, score=0.880 total time= 1.0min\n",
      "[CV 1/5] END C=0.046415888336127774, kernel=poly;, score=0.711 total time=  59.9s\n",
      "[CV 2/5] END C=0.046415888336127774, kernel=poly;, score=0.721 total time=  59.7s\n",
      "[CV 3/5] END C=0.046415888336127774, kernel=poly;, score=0.711 total time= 1.0min\n",
      "[CV 4/5] END C=0.046415888336127774, kernel=poly;, score=0.719 total time=  58.0s\n",
      "[CV 5/5] END C=0.046415888336127774, kernel=poly;, score=0.724 total time=  58.3s\n",
      "[CV 1/5] END C=0.046415888336127774, kernel=rbf;, score=0.887 total time=  51.2s\n",
      "[CV 2/5] END C=0.046415888336127774, kernel=rbf;, score=0.893 total time=  53.1s\n",
      "[CV 3/5] END C=0.046415888336127774, kernel=rbf;, score=0.882 total time=  50.4s\n",
      "[CV 4/5] END C=0.046415888336127774, kernel=rbf;, score=0.886 total time=  51.5s\n",
      "[CV 5/5] END C=0.046415888336127774, kernel=rbf;, score=0.883 total time=  52.0s\n",
      "[CV 1/5] END ................C=0.1, kernel=poly;, score=0.761 total time=  52.5s\n",
      "[CV 2/5] END ................C=0.1, kernel=poly;, score=0.770 total time=  52.7s\n",
      "[CV 3/5] END ................C=0.1, kernel=poly;, score=0.765 total time=  54.1s\n",
      "[CV 4/5] END ................C=0.1, kernel=poly;, score=0.763 total time=  53.1s\n",
      "[CV 5/5] END ................C=0.1, kernel=poly;, score=0.764 total time=  53.3s\n",
      "[CV 1/5] END .................C=0.1, kernel=rbf;, score=0.894 total time=  46.8s\n",
      "[CV 2/5] END .................C=0.1, kernel=rbf;, score=0.901 total time=  47.1s\n",
      "[CV 3/5] END .................C=0.1, kernel=rbf;, score=0.890 total time=  46.7s\n",
      "[CV 4/5] END .................C=0.1, kernel=rbf;, score=0.894 total time=  46.2s\n",
      "[CV 5/5] END .................C=0.1, kernel=rbf;, score=0.895 total time=  48.8s\n",
      "[CV 1/5] END C=0.21544346900318834, kernel=poly;, score=0.808 total time=  48.2s\n",
      "[CV 2/5] END C=0.21544346900318834, kernel=poly;, score=0.820 total time=  48.4s\n",
      "[CV 3/5] END C=0.21544346900318834, kernel=poly;, score=0.807 total time=  50.2s\n",
      "[CV 4/5] END C=0.21544346900318834, kernel=poly;, score=0.812 total time=  48.9s\n",
      "[CV 5/5] END C=0.21544346900318834, kernel=poly;, score=0.820 total time=  49.4s\n",
      "[CV 1/5] END .C=0.21544346900318834, kernel=rbf;, score=0.900 total time=  44.3s\n",
      "[CV 2/5] END .C=0.21544346900318834, kernel=rbf;, score=0.902 total time=  45.3s\n",
      "[CV 3/5] END .C=0.21544346900318834, kernel=rbf;, score=0.894 total time=  43.6s\n",
      "[CV 4/5] END .C=0.21544346900318834, kernel=rbf;, score=0.900 total time=  43.7s\n",
      "[CV 5/5] END .C=0.21544346900318834, kernel=rbf;, score=0.902 total time=  44.7s\n",
      "[CV 1/5] END C=0.46415888336127775, kernel=poly;, score=0.848 total time=  45.2s\n",
      "[CV 2/5] END C=0.46415888336127775, kernel=poly;, score=0.858 total time=  44.6s\n",
      "[CV 3/5] END C=0.46415888336127775, kernel=poly;, score=0.842 total time=  47.0s\n",
      "[CV 4/5] END C=0.46415888336127775, kernel=poly;, score=0.849 total time=  44.5s\n",
      "[CV 5/5] END C=0.46415888336127775, kernel=poly;, score=0.860 total time=  47.2s\n",
      "[CV 1/5] END .C=0.46415888336127775, kernel=rbf;, score=0.902 total time=  41.8s\n",
      "[CV 2/5] END .C=0.46415888336127775, kernel=rbf;, score=0.907 total time=  43.1s\n",
      "[CV 3/5] END .C=0.46415888336127775, kernel=rbf;, score=0.899 total time=  42.8s\n",
      "[CV 4/5] END .C=0.46415888336127775, kernel=rbf;, score=0.904 total time=  43.6s\n",
      "[CV 5/5] END .C=0.46415888336127775, kernel=rbf;, score=0.907 total time=  43.8s\n",
      "[CV 1/5] END ................C=1.0, kernel=poly;, score=0.873 total time=  39.9s\n",
      "[CV 2/5] END ................C=1.0, kernel=poly;, score=0.881 total time=  39.3s\n",
      "[CV 3/5] END ................C=1.0, kernel=poly;, score=0.864 total time=  40.3s\n",
      "[CV 4/5] END ................C=1.0, kernel=poly;, score=0.875 total time=  39.8s\n",
      "[CV 5/5] END ................C=1.0, kernel=poly;, score=0.877 total time=  39.9s\n",
      "[CV 1/5] END .................C=1.0, kernel=rbf;, score=0.903 total time=  41.8s\n",
      "[CV 2/5] END .................C=1.0, kernel=rbf;, score=0.910 total time=  41.4s\n",
      "[CV 3/5] END .................C=1.0, kernel=rbf;, score=0.898 total time=  41.7s\n",
      "[CV 4/5] END .................C=1.0, kernel=rbf;, score=0.903 total time=  41.9s\n",
      "[CV 5/5] END .................C=1.0, kernel=rbf;, score=0.909 total time=  42.3s\n",
      "[CV 1/5] END ..C=2.154434690031882, kernel=poly;, score=0.881 total time=  35.7s\n",
      "[CV 2/5] END ..C=2.154434690031882, kernel=poly;, score=0.897 total time=  35.5s\n",
      "[CV 3/5] END ..C=2.154434690031882, kernel=poly;, score=0.872 total time=  35.7s\n",
      "[CV 4/5] END ..C=2.154434690031882, kernel=poly;, score=0.888 total time=  35.1s\n",
      "[CV 5/5] END ..C=2.154434690031882, kernel=poly;, score=0.885 total time=  35.7s\n",
      "[CV 1/5] END ...C=2.154434690031882, kernel=rbf;, score=0.901 total time=  43.4s\n",
      "[CV 2/5] END ...C=2.154434690031882, kernel=rbf;, score=0.908 total time=  43.2s\n",
      "[CV 3/5] END ...C=2.154434690031882, kernel=rbf;, score=0.897 total time=  43.2s\n",
      "[CV 4/5] END ...C=2.154434690031882, kernel=rbf;, score=0.902 total time=  43.6s\n",
      "[CV 5/5] END ...C=2.154434690031882, kernel=rbf;, score=0.910 total time=  43.2s\n",
      "[CV 1/5] END .C=4.6415888336127775, kernel=poly;, score=0.883 total time=  33.1s\n",
      "[CV 2/5] END .C=4.6415888336127775, kernel=poly;, score=0.900 total time=  34.2s\n",
      "[CV 3/5] END .C=4.6415888336127775, kernel=poly;, score=0.875 total time=  34.7s\n",
      "[CV 4/5] END .C=4.6415888336127775, kernel=poly;, score=0.892 total time=  33.6s\n",
      "[CV 5/5] END .C=4.6415888336127775, kernel=poly;, score=0.891 total time=  34.0s\n",
      "[CV 1/5] END ..C=4.6415888336127775, kernel=rbf;, score=0.898 total time=  47.9s\n",
      "[CV 2/5] END ..C=4.6415888336127775, kernel=rbf;, score=0.904 total time=  48.1s\n",
      "[CV 3/5] END ..C=4.6415888336127775, kernel=rbf;, score=0.896 total time=  47.3s\n",
      "[CV 4/5] END ..C=4.6415888336127775, kernel=rbf;, score=0.900 total time=  47.0s\n",
      "[CV 5/5] END ..C=4.6415888336127775, kernel=rbf;, score=0.905 total time=  50.3s\n",
      "[CV 1/5] END ...............C=10.0, kernel=poly;, score=0.887 total time=  34.5s\n",
      "[CV 2/5] END ...............C=10.0, kernel=poly;, score=0.896 total time=  33.2s\n",
      "[CV 3/5] END ...............C=10.0, kernel=poly;, score=0.873 total time=  33.7s\n",
      "[CV 4/5] END ...............C=10.0, kernel=poly;, score=0.887 total time=  33.3s\n",
      "[CV 5/5] END ...............C=10.0, kernel=poly;, score=0.887 total time=  32.4s\n",
      "[CV 1/5] END ................C=10.0, kernel=rbf;, score=0.895 total time=  53.0s\n",
      "[CV 2/5] END ................C=10.0, kernel=rbf;, score=0.901 total time=  52.3s\n",
      "[CV 3/5] END ................C=10.0, kernel=rbf;, score=0.889 total time=  52.8s\n",
      "[CV 4/5] END ................C=10.0, kernel=rbf;, score=0.895 total time=  51.8s\n",
      "[CV 5/5] END ................C=10.0, kernel=rbf;, score=0.898 total time=  54.0s\n",
      "Successfully saved features\n"
     ]
    }
   ],
   "source": [
    "#Grid Search on SIFT\n",
    "parameters = {'kernel':('poly', 'rbf'), 'C': np.logspace(-2, 1, num = 10)}\n",
    "LF = LocalFeature(feature_type = 'SIFT', cluster_size = 50, test_size = 0.25, image_type = 'original')\n",
    "x_train, x_test, y_train, y_test = LF.fit(np_img)\n",
    "x_train = StandardScaling(x_train, x_train)\n",
    "x_test = StandardScaling(x_train,x_test)\n",
    "svc = SVC(probability = True)\n",
    "clf = GridSearchCV(svc, parameters, refit = True, cv = 5, verbose = 3)\n",
    "clf.fit(x_train, y_train)    \n",
    "save_filename = './features_pkl/local_'+ 'raw' + '_image_features_grid_search'\n",
    "save_feature(clf, save_filename)\n"
   ]
  },
  {
   "cell_type": "markdown",
   "id": "09fa2a35",
   "metadata": {},
   "source": [
    "<h3>Grid Search Cv model on test data"
   ]
  },
  {
   "cell_type": "code",
   "execution_count": 164,
   "id": "e8637d0b",
   "metadata": {},
   "outputs": [],
   "source": [
    "prob_grid = []"
   ]
  },
  {
   "cell_type": "code",
   "execution_count": 165,
   "id": "af59954a",
   "metadata": {},
   "outputs": [
    {
     "name": "stdout",
     "output_type": "stream",
     "text": [
      "LR : Accuracy-0.9036284470246735 Precision-0.9153891509433962 Recall-0.8917288914417002 F1-0.903404131510038\n",
      "LR : Accuracy-0.9168359941944848 Precision-0.9304527966854099 Recall-0.9029293509477312 F1-0.9164844774814167\n"
     ]
    }
   ],
   "source": [
    "ll = ['scharr', 'sobel']\n",
    "for itr in ll:\n",
    "    filename = './features_pkl/global_'+ itr + '_image_features_grid_search.pkl.pkl'\n",
    "    clf = load_feature(filename)\n",
    "    filename = './features_pkl/global_'+ itr + '_image_features.pkl'\n",
    "    data = load_feature(filename)\n",
    "    x_train, x_test, y_train, y_test = train_test_split(data, label, test_size=0.25, random_state=42)\n",
    "    x_test = StandardScaling(x_train,x_test)\n",
    "    y_pred_test = clf.predict(x_test)\n",
    "    y_pred_proba = clf.predict_proba(x_test)\n",
    "    prob_grid.append(y_pred_proba[:,1])\n",
    "    matrix,accuracy,precision,recall,f1 = metric(y_test,y_pred_test)\n",
    "    print(\"LR : Accuracy-{0} Precision-{1} Recall-{2} F1-{3}\".format(accuracy,precision,recall,f1))\n",
    "    grid_search_df.loc[itr] = [accuracy,precision,recall,f1]"
   ]
  },
  {
   "cell_type": "code",
   "execution_count": 18,
   "id": "700ccd71",
   "metadata": {},
   "outputs": [],
   "source": [
    "y1 = copy.deepcopy(y_test)"
   ]
  },
  {
   "cell_type": "code",
   "execution_count": 167,
   "id": "af53a656",
   "metadata": {},
   "outputs": [
    {
     "name": "stdout",
     "output_type": "stream",
     "text": [
      "27204 27204\n",
      "LR : Accuracy-0.9066313777385678 Precision-0.9098190447938297 Recall-0.9025897586815774 F1-0.906189983749446\n"
     ]
    }
   ],
   "source": [
    "#Prediction on SIFT Grid Search\n",
    "filename = './features_pkl/local_'+ 'raw' + '_image_features_grid_search.pkl'\n",
    "clf = load_feature(filename)\n",
    "x_train, x_test, y_train, y_test = LF.fit(np_img)\n",
    "x_test = StandardScaling(x_train,x_test)\n",
    "y_pred_test = clf.predict(x_test)\n",
    "y_pred_proba = clf.predict_proba(x_test)\n",
    "prob_grid.append(y_pred_proba[:,1])\n",
    "matrix,accuracy,precision,recall,f1 = metric(y_test,y_pred_test)\n",
    "print(\"LR : Accuracy-{0} Precision-{1} Recall-{2} F1-{3}\".format(accuracy,precision,recall,f1))\n",
    "grid_search_df.loc['SIFT BOVW'] = [accuracy,precision,recall,f1]"
   ]
  },
  {
   "cell_type": "code",
   "execution_count": 168,
   "id": "69e76ffb",
   "metadata": {},
   "outputs": [],
   "source": [
    "y2 = copy.deepcopy(y_test)"
   ]
  },
  {
   "cell_type": "code",
   "execution_count": 169,
   "id": "3f629b9d",
   "metadata": {},
   "outputs": [
    {
     "data": {
      "text/html": [
       "<div>\n",
       "<style scoped>\n",
       "    .dataframe tbody tr th:only-of-type {\n",
       "        vertical-align: middle;\n",
       "    }\n",
       "\n",
       "    .dataframe tbody tr th {\n",
       "        vertical-align: top;\n",
       "    }\n",
       "\n",
       "    .dataframe thead th {\n",
       "        text-align: right;\n",
       "    }\n",
       "</style>\n",
       "<table border=\"1\" class=\"dataframe\">\n",
       "  <thead>\n",
       "    <tr style=\"text-align: right;\">\n",
       "      <th></th>\n",
       "      <th>Accuracy</th>\n",
       "      <th>Precision</th>\n",
       "      <th>Recall</th>\n",
       "      <th>F1</th>\n",
       "    </tr>\n",
       "  </thead>\n",
       "  <tbody>\n",
       "    <tr>\n",
       "      <th>SIFT BOVW</th>\n",
       "      <td>0.906631</td>\n",
       "      <td>0.909819</td>\n",
       "      <td>0.90259</td>\n",
       "      <td>0.90619</td>\n",
       "    </tr>\n",
       "    <tr>\n",
       "      <th>scharr</th>\n",
       "      <td>0.903628</td>\n",
       "      <td>0.915389</td>\n",
       "      <td>0.891729</td>\n",
       "      <td>0.903404</td>\n",
       "    </tr>\n",
       "    <tr>\n",
       "      <th>sobel</th>\n",
       "      <td>0.916836</td>\n",
       "      <td>0.930453</td>\n",
       "      <td>0.902929</td>\n",
       "      <td>0.916484</td>\n",
       "    </tr>\n",
       "  </tbody>\n",
       "</table>\n",
       "</div>"
      ],
      "text/plain": [
       "           Accuracy Precision    Recall        F1\n",
       "SIFT BOVW  0.906631  0.909819   0.90259   0.90619\n",
       "scharr     0.903628  0.915389  0.891729  0.903404\n",
       "sobel      0.916836  0.930453  0.902929  0.916484"
      ]
     },
     "execution_count": 169,
     "metadata": {},
     "output_type": "execute_result"
    }
   ],
   "source": [
    "grid_search_df"
   ]
  },
  {
   "cell_type": "markdown",
   "id": "6b308c2a",
   "metadata": {},
   "source": [
    "<h3> ROC Curve for Grid Search on all 3 preprocessing techniques"
   ]
  },
  {
   "cell_type": "code",
   "execution_count": 170,
   "id": "dd00bbd4",
   "metadata": {},
   "outputs": [
    {
     "data": {
      "image/png": "[encoded data removed]",
      "text/plain": [
       "<Figure size 864x432 with 1 Axes>"
      ]
     },
     "metadata": {
      "needs_background": "light"
     },
     "output_type": "display_data"
    }
   ],
   "source": [
    "plot_roc(y1, y2, proba_random_tree, ['scharr', 'sobel', 'SIFT BOVW'])"
   ]
  },
  {
   "cell_type": "markdown",
   "id": "8bd0e3ba",
   "metadata": {},
   "source": [
    "<h1>Ensembling: Random Tree Classifier"
   ]
  },
  {
   "cell_type": "code",
   "execution_count": 122,
   "id": "1a259c26",
   "metadata": {},
   "outputs": [],
   "source": [
    "random_tree_df = pd.DataFrame(columns = ['Accuracy', 'Precision', 'Recall','F1'], \n",
    "                   index = ['SIFT BOVW', 'scharr', 'sobel'])"
   ]
  },
  {
   "cell_type": "code",
   "execution_count": 42,
   "id": "8528ae99",
   "metadata": {},
   "outputs": [
    {
     "name": "stdout",
     "output_type": "stream",
     "text": [
      "Successfully saved features\n",
      "Training Done for : scharr\n",
      "Successfully saved features\n",
      "Training Done for : sobel\n"
     ]
    }
   ],
   "source": [
    "from sklearn.ensemble import RandomForestClassifier\n",
    "ll = ['scharr', 'sobel']\n",
    "for itr in ll:\n",
    "    filename = './features_pkl/global_'+ itr + '_image_features.pkl'\n",
    "    data = load_feature(filename)\n",
    "    x_train, x_test, y_train, y_test = train_test_split(data, label, test_size=0.25, random_state=42)\n",
    "    x_train = StandardScaling(x_train,x_train)\n",
    "    clf = RandomForestClassifier()\n",
    "    clf.fit(x_train, y_train)\n",
    "    save_filename = './features_pkl/global_'+ itr + '_image_features_random_tree'\n",
    "    save_feature(clf, save_filename)\n",
    "    print(\"Training Done for :\", itr)"
   ]
  },
  {
   "cell_type": "code",
   "execution_count": 43,
   "id": "ad2022e6",
   "metadata": {},
   "outputs": [
    {
     "name": "stdout",
     "output_type": "stream",
     "text": [
      "27204 27204\n",
      "Successfully saved features\n"
     ]
    }
   ],
   "source": [
    "#Random Tree on SIFT\n",
    "LF = LocalFeature(feature_type = 'SIFT', cluster_size = 50, test_size = 0.25, image_type = 'original')\n",
    "x_train, x_test, y_train, y_test = LF.fit(np_img)\n",
    "x_train = StandardScaling(x_train, x_train)\n",
    "x_test = StandardScaling(x_train,x_test)\n",
    "clf = RandomForestClassifier()\n",
    "clf.fit(x_train, y_train)    \n",
    "save_filename = './features_pkl/local_'+ 'raw' + '_image_features_random_tree'\n",
    "save_feature(clf, save_filename)"
   ]
  },
  {
   "cell_type": "markdown",
   "id": "e0714eea",
   "metadata": {},
   "source": [
    "<h3>Random Tree Predictions"
   ]
  },
  {
   "cell_type": "code",
   "execution_count": 123,
   "id": "2cc7d394",
   "metadata": {},
   "outputs": [],
   "source": [
    "proba_random_tree = []"
   ]
  },
  {
   "cell_type": "code",
   "execution_count": 124,
   "id": "a9ba31f9",
   "metadata": {},
   "outputs": [
    {
     "name": "stdout",
     "output_type": "stream",
     "text": [
      "Random Tree : Accuracy-0.8735849056603774 Precision-0.8707753479125249 Recall-0.8805284319356692 F1-0.875624732257604\n",
      "Random Tree : Accuracy-0.879100145137881 Precision-0.8781044818726805 Recall-0.8834003446295232 F1-0.8807444523979956\n"
     ]
    }
   ],
   "source": [
    "ll = ['scharr', 'sobel']\n",
    "for itr in ll:\n",
    "    filename = './features_pkl/global_'+ itr + '_image_features_random_tree.pkl'\n",
    "    clf = load_feature(filename)\n",
    "    filename = './features_pkl/global_'+ itr + '_image_features.pkl'\n",
    "    data = load_feature(filename)\n",
    "    x_train, x_test, y_train, y_test = train_test_split(data, label, test_size=0.25, random_state=42)\n",
    "    x_test = StandardScaling(x_train,x_test)\n",
    "    y_pred_test = clf.predict(x_test)\n",
    "    y_pred_proba = clf.predict_proba(x_test)\n",
    "    proba_random_tree.append(y_pred_proba[:,1])\n",
    "    matrix,accuracy,precision,recall,f1 = metric(y_test,y_pred_test)\n",
    "    print(\"Random Tree : Accuracy-{0} Precision-{1} Recall-{2} F1-{3}\".format(accuracy,precision,recall,f1))\n",
    "    random_tree_df.loc[itr] = [accuracy,precision,recall,f1]"
   ]
  },
  {
   "cell_type": "code",
   "execution_count": 128,
   "id": "6b767d55",
   "metadata": {},
   "outputs": [],
   "source": [
    "y1 = copy.deepcopy(y_test)"
   ]
  },
  {
   "cell_type": "code",
   "execution_count": 129,
   "id": "9df18994",
   "metadata": {},
   "outputs": [
    {
     "name": "stdout",
     "output_type": "stream",
     "text": [
      "27204 27204\n",
      "Random Tree : Accuracy-0.9061902661373328 Precision-0.9011627906976745 Recall-0.9123013537374927 F1-0.9066978648727698\n"
     ]
    }
   ],
   "source": [
    "#Prediction on SIFT Random Tree\n",
    "filename = './features_pkl/local_'+ 'raw' + '_image_features_random_tree.pkl'\n",
    "clf = load_feature(filename)\n",
    "x_train, x_test, y_train, y_test = LF.fit(np_img)\n",
    "x_test = StandardScaling(x_train,x_test)\n",
    "y_pred_test = clf.predict(x_test)\n",
    "y_pred_proba = clf.predict_proba(x_test)\n",
    "proba_random_tree.append(y_pred_proba[:,1])\n",
    "matrix,accuracy,precision,recall,f1 = metric(y_test,y_pred_test)\n",
    "print(\"Random Tree : Accuracy-{0} Precision-{1} Recall-{2} F1-{3}\".format(accuracy,precision,recall,f1))\n",
    "random_tree_df.loc['SIFT BOVW'] = [accuracy,precision,recall,f1]"
   ]
  },
  {
   "cell_type": "code",
   "execution_count": 16,
   "id": "df22ef48",
   "metadata": {},
   "outputs": [],
   "source": [
    "y2 = copy.deepcopy(y_test)"
   ]
  },
  {
   "cell_type": "code",
   "execution_count": 101,
   "id": "4d1e590f",
   "metadata": {},
   "outputs": [
    {
     "data": {
      "text/html": [
       "<div>\n",
       "<style scoped>\n",
       "    .dataframe tbody tr th:only-of-type {\n",
       "        vertical-align: middle;\n",
       "    }\n",
       "\n",
       "    .dataframe tbody tr th {\n",
       "        vertical-align: top;\n",
       "    }\n",
       "\n",
       "    .dataframe thead th {\n",
       "        text-align: right;\n",
       "    }\n",
       "</style>\n",
       "<table border=\"1\" class=\"dataframe\">\n",
       "  <thead>\n",
       "    <tr style=\"text-align: right;\">\n",
       "      <th></th>\n",
       "      <th>Accuracy</th>\n",
       "      <th>Precision</th>\n",
       "      <th>Recall</th>\n",
       "      <th>F1</th>\n",
       "    </tr>\n",
       "  </thead>\n",
       "  <tbody>\n",
       "    <tr>\n",
       "      <th>SIFT BOVW</th>\n",
       "      <td>0.90619</td>\n",
       "      <td>0.901163</td>\n",
       "      <td>0.912301</td>\n",
       "      <td>0.906698</td>\n",
       "    </tr>\n",
       "    <tr>\n",
       "      <th>scharr</th>\n",
       "      <td>0.873585</td>\n",
       "      <td>0.870775</td>\n",
       "      <td>0.880528</td>\n",
       "      <td>0.875625</td>\n",
       "    </tr>\n",
       "    <tr>\n",
       "      <th>sobel</th>\n",
       "      <td>0.8791</td>\n",
       "      <td>0.878104</td>\n",
       "      <td>0.8834</td>\n",
       "      <td>0.880744</td>\n",
       "    </tr>\n",
       "  </tbody>\n",
       "</table>\n",
       "</div>"
      ],
      "text/plain": [
       "           Accuracy Precision    Recall        F1\n",
       "SIFT BOVW   0.90619  0.901163  0.912301  0.906698\n",
       "scharr     0.873585  0.870775  0.880528  0.875625\n",
       "sobel        0.8791  0.878104    0.8834  0.880744"
      ]
     },
     "execution_count": 101,
     "metadata": {},
     "output_type": "execute_result"
    }
   ],
   "source": [
    "random_tree_df"
   ]
  },
  {
   "cell_type": "code",
   "execution_count": 138,
   "id": "05ce3bd0",
   "metadata": {},
   "outputs": [
    {
     "data": {
      "image/png": "[encoded data removed]",
      "text/plain": [
       "<Figure size 864x432 with 1 Axes>"
      ]
     },
     "metadata": {
      "needs_background": "light"
     },
     "output_type": "display_data"
    }
   ],
   "source": [
    "plot_roc(y1, y2, proba_random_tree, ['scharr', 'sobel', 'SIFT BOVW'])"
   ]
  },
  {
   "cell_type": "markdown",
   "id": "eed80d30",
   "metadata": {},
   "source": [
    "<h1>Ensembling: Ada Boost"
   ]
  },
  {
   "cell_type": "code",
   "execution_count": 9,
   "id": "3c5dbfd0",
   "metadata": {},
   "outputs": [],
   "source": [
    "adaboost_dt_df = pd.DataFrame(columns = ['Accuracy', 'Precision', 'Recall','F1'], \n",
    "                   index = ['SIFT BOVW', 'scharr', 'sobel'])\n",
    "\n",
    "adaboost_lr_df = pd.DataFrame(columns = ['Accuracy', 'Precision', 'Recall','F1'], \n",
    "                   index = ['SIFT BOVW', 'scharr', 'sobel'])"
   ]
  },
  {
   "cell_type": "code",
   "execution_count": 67,
   "id": "27bc0d63",
   "metadata": {},
   "outputs": [
    {
     "name": "stdout",
     "output_type": "stream",
     "text": [
      "Successfully saved features\n",
      "Training Done for : scharr\n",
      "Successfully saved features\n",
      "Training Done for : sobel\n",
      "Successfully saved features\n",
      "Training Done for : scharr\n",
      "Successfully saved features\n",
      "Training Done for : sobel\n"
     ]
    }
   ],
   "source": [
    "from sklearn.ensemble import AdaBoostClassifier\n",
    "ll = ['scharr', 'sobel']\n",
    "for itr in ll:\n",
    "    filename = './features_pkl/global_'+ itr + '_image_features.pkl'\n",
    "    data = load_feature(filename)\n",
    "    x_train, x_test, y_train, y_test = train_test_split(data, label, test_size=0.25, random_state=42)\n",
    "    x_train = StandardScaling(x_train,x_train)\n",
    "    clf = AdaBoostClassifier(algorithm = 'SAMME')\n",
    "    clf.fit(x_train, y_train)\n",
    "    save_filename = './features_pkl/global_'+ itr + '_image_features_adaboost_default'\n",
    "    save_feature(clf, save_filename)\n",
    "    print(\"Training Done for :\", itr)\n",
    "    \n",
    "lr = LogisticRegression()\n",
    "for itr in ll:\n",
    "    filename = './features_pkl/global_'+ itr + '_image_features.pkl'\n",
    "    data = load_feature(filename)\n",
    "    x_train, x_test, y_train, y_test = train_test_split(data, label, test_size=0.25, random_state=42)\n",
    "    x_train = StandardScaling(x_train,x_train)\n",
    "    clf = AdaBoostClassifier(base_estimator = lr, algorithm = 'SAMME')\n",
    "    clf.fit(x_train, y_train)\n",
    "    save_filename = './features_pkl/global_'+ itr + '_image_features_adaboost_lr'\n",
    "    save_feature(clf, save_filename)\n",
    "    print(\"Training Done for :\", itr)"
   ]
  },
  {
   "cell_type": "code",
   "execution_count": 6,
   "id": "f7c26f03",
   "metadata": {},
   "outputs": [
    {
     "name": "stdout",
     "output_type": "stream",
     "text": [
      "27204 27204\n",
      "Successfully saved features\n"
     ]
    }
   ],
   "source": [
    "from sklearn.ensemble import AdaBoostClassifier\n",
    "#Adaboost on SIFT\n",
    "LF = LocalFeature(feature_type = 'SIFT', cluster_size = 50, test_size = 0.25, image_type = 'original')\n",
    "x_train, x_test, y_train, y_test = LF.fit(np_img)\n",
    "x_train = StandardScaling(x_train, x_train)\n",
    "x_test = StandardScaling(x_train,x_test)\n",
    "clf = AdaBoostClassifier(algorithm = 'SAMME')\n",
    "clf.fit(x_train, y_train)    \n",
    "save_filename = './features_pkl/local_'+ 'raw' + '_image_features_adaboost_default'\n",
    "save_feature(clf, save_filename)\n",
    "\n",
    "#SIFT on LR\n",
    "lr = LogisticRegression()\n",
    "clf = AdaBoostClassifier(base_estimator = lr, algorithm = 'SAMME')\n",
    "clf.fit(x_train, y_train)    \n",
    "save_filename = './features_pkl/local_'+ 'raw' + '_image_features_adaboost_lr'\n",
    "save_feature(clf, save_filename)"
   ]
  },
  {
   "cell_type": "markdown",
   "id": "81f5ad32",
   "metadata": {},
   "source": [
    "<h3>Prediction on both adaboost estimators"
   ]
  },
  {
   "cell_type": "code",
   "execution_count": 35,
   "id": "815642eb",
   "metadata": {},
   "outputs": [],
   "source": [
    "prob_dt = []\n",
    "prob_lr = []"
   ]
  },
  {
   "cell_type": "code",
   "execution_count": 36,
   "id": "2629ca76",
   "metadata": {},
   "outputs": [
    {
     "name": "stdout",
     "output_type": "stream",
     "text": [
      "AdaBoost default : Accuracy-0.8471698113207548 Precision-0.8274467511458614 Recall-0.8813900057438254 F1-0.8535669586983731\n",
      "AdaBoost LR : Accuracy-0.8378809869375907 Precision-0.830954380072768 Recall-0.8526708788052844 F1-0.8416725726435152\n",
      "AdaBoost default : Accuracy-0.8548621190130624 Precision-0.8460680423870608 Recall-0.871338311315336 F1-0.858517260894171\n",
      "AdaBoost LR : Accuracy-0.872278664731495 Precision-0.8764467592592593 Recall-0.869902354968409 F1-0.8731622946093976\n"
     ]
    }
   ],
   "source": [
    "ll = ['scharr', 'sobel']\n",
    "for itr in ll:\n",
    "    filename = './features_pkl/global_'+ itr + '_image_features_adaboost_default.pkl'\n",
    "    clf_deafult = load_feature(filename)\n",
    "    filename = './features_pkl/global_'+ itr + '_image_features_adaboost_lr.pkl'\n",
    "    clf_lr = load_feature(filename)\n",
    "    filename = './features_pkl/global_'+ itr + '_image_features.pkl'\n",
    "    data = load_feature(filename)\n",
    "    x_train, x_test, y_train, y_test = train_test_split(data, label, test_size=0.25, random_state=42)\n",
    "    x_test = StandardScaling(x_train,x_test)\n",
    "    y_pred_default = clf_deafult.predict(x_test)\n",
    "    y_pred_lr = clf_lr.predict(x_test)\n",
    "    y_pred_proba = clf_deafult.predict_proba(x_test)\n",
    "    prob_dt.append(y_pred_proba[:,1])\n",
    "    y_pred_proba = clf_lr.predict_proba(x_test)\n",
    "    prob_lr.append(y_pred_proba[:,1])\n",
    "    matrix,accuracy,precision,recall,f1 = metric(y_test,y_pred_default)\n",
    "    print(\"AdaBoost default : Accuracy-{0} Precision-{1} Recall-{2} F1-{3}\".format(accuracy,precision,recall,f1))\n",
    "    adaboost_dt_df.loc[itr] = [accuracy,precision,recall,f1]\n",
    "    \n",
    "    matrix,accuracy,precision,recall,f1 = metric(y_test,y_pred_lr)\n",
    "    print(\"AdaBoost LR : Accuracy-{0} Precision-{1} Recall-{2} F1-{3}\".format(accuracy,precision,recall,f1))\n",
    "    adaboost_lr_df.loc[itr] = [accuracy,precision,recall,f1]"
   ]
  },
  {
   "cell_type": "code",
   "execution_count": 37,
   "id": "dff6c8ef",
   "metadata": {},
   "outputs": [
    {
     "name": "stdout",
     "output_type": "stream",
     "text": [
      "27204 27204\n",
      "AdaBoost default : Accuracy-0.8742831936479929 Precision-0.9431857790170791 Recall-0.79635079458505 F1-0.8635710866443275\n",
      "AdaBoost LR : Accuracy-0.8753124540508749 Precision-0.9161227154046997 Recall-0.826074161271336 F1-0.8687712782420304\n"
     ]
    }
   ],
   "source": [
    "#Prediction on SIFT Adaboost\n",
    "filename = './features_pkl/local_'+ 'raw' + '_image_features_adaboost_default.pkl'\n",
    "clf_deafult = load_feature(filename)\n",
    "filename = './features_pkl/local_'+ 'raw' + '_image_features_adaboost_lr.pkl'\n",
    "clf_lr = load_feature(filename)\n",
    "x_train, x_test, y_train, y_test = LF.fit(np_img)\n",
    "x_test = StandardScaling(x_train,x_test)\n",
    "\n",
    "y_pred_default = clf_deafult.predict(x_test)\n",
    "y_pred_lr = clf_lr.predict(x_test)\n",
    "y_pred_proba = clf_deafult.predict_proba(x_test)\n",
    "prob_dt.append(y_pred_proba[:,1])\n",
    "y_pred_proba = clf_lr.predict_proba(x_test)\n",
    "prob_lr.append(y_pred_proba[:,1])\n",
    "matrix,accuracy,precision,recall,f1 = metric(y_test,y_pred_default)\n",
    "print(\"AdaBoost default : Accuracy-{0} Precision-{1} Recall-{2} F1-{3}\".format(accuracy,precision,recall,f1))\n",
    "adaboost_dt_df.loc['SIFT BOVW'] = [accuracy,precision,recall,f1]\n",
    "    \n",
    "matrix,accuracy,precision,recall,f1 = metric(y_test,y_pred_lr)\n",
    "print(\"AdaBoost LR : Accuracy-{0} Precision-{1} Recall-{2} F1-{3}\".format(accuracy,precision,recall,f1))\n",
    "adaboost_lr_df.loc['SIFT BOVW'] = [accuracy,precision,recall,f1]"
   ]
  },
  {
   "cell_type": "code",
   "execution_count": 38,
   "id": "d052dcc2",
   "metadata": {},
   "outputs": [
    {
     "data": {
      "text/html": [
       "<div>\n",
       "<style scoped>\n",
       "    .dataframe tbody tr th:only-of-type {\n",
       "        vertical-align: middle;\n",
       "    }\n",
       "\n",
       "    .dataframe tbody tr th {\n",
       "        vertical-align: top;\n",
       "    }\n",
       "\n",
       "    .dataframe thead th {\n",
       "        text-align: right;\n",
       "    }\n",
       "</style>\n",
       "<table border=\"1\" class=\"dataframe\">\n",
       "  <thead>\n",
       "    <tr style=\"text-align: right;\">\n",
       "      <th></th>\n",
       "      <th>Accuracy</th>\n",
       "      <th>Precision</th>\n",
       "      <th>Recall</th>\n",
       "      <th>F1</th>\n",
       "    </tr>\n",
       "  </thead>\n",
       "  <tbody>\n",
       "    <tr>\n",
       "      <th>SIFT BOVW</th>\n",
       "      <td>0.874283</td>\n",
       "      <td>0.943186</td>\n",
       "      <td>0.796351</td>\n",
       "      <td>0.863571</td>\n",
       "    </tr>\n",
       "    <tr>\n",
       "      <th>scharr</th>\n",
       "      <td>0.84717</td>\n",
       "      <td>0.827447</td>\n",
       "      <td>0.88139</td>\n",
       "      <td>0.853567</td>\n",
       "    </tr>\n",
       "    <tr>\n",
       "      <th>sobel</th>\n",
       "      <td>0.854862</td>\n",
       "      <td>0.846068</td>\n",
       "      <td>0.871338</td>\n",
       "      <td>0.858517</td>\n",
       "    </tr>\n",
       "  </tbody>\n",
       "</table>\n",
       "</div>"
      ],
      "text/plain": [
       "           Accuracy Precision    Recall        F1\n",
       "SIFT BOVW  0.874283  0.943186  0.796351  0.863571\n",
       "scharr      0.84717  0.827447   0.88139  0.853567\n",
       "sobel      0.854862  0.846068  0.871338  0.858517"
      ]
     },
     "execution_count": 38,
     "metadata": {},
     "output_type": "execute_result"
    }
   ],
   "source": [
    "adaboost_dt_df"
   ]
  },
  {
   "cell_type": "code",
   "execution_count": 39,
   "id": "8bc2d88d",
   "metadata": {},
   "outputs": [
    {
     "data": {
      "text/html": [
       "<div>\n",
       "<style scoped>\n",
       "    .dataframe tbody tr th:only-of-type {\n",
       "        vertical-align: middle;\n",
       "    }\n",
       "\n",
       "    .dataframe tbody tr th {\n",
       "        vertical-align: top;\n",
       "    }\n",
       "\n",
       "    .dataframe thead th {\n",
       "        text-align: right;\n",
       "    }\n",
       "</style>\n",
       "<table border=\"1\" class=\"dataframe\">\n",
       "  <thead>\n",
       "    <tr style=\"text-align: right;\">\n",
       "      <th></th>\n",
       "      <th>Accuracy</th>\n",
       "      <th>Precision</th>\n",
       "      <th>Recall</th>\n",
       "      <th>F1</th>\n",
       "    </tr>\n",
       "  </thead>\n",
       "  <tbody>\n",
       "    <tr>\n",
       "      <th>SIFT BOVW</th>\n",
       "      <td>0.875312</td>\n",
       "      <td>0.916123</td>\n",
       "      <td>0.826074</td>\n",
       "      <td>0.868771</td>\n",
       "    </tr>\n",
       "    <tr>\n",
       "      <th>scharr</th>\n",
       "      <td>0.837881</td>\n",
       "      <td>0.830954</td>\n",
       "      <td>0.852671</td>\n",
       "      <td>0.841673</td>\n",
       "    </tr>\n",
       "    <tr>\n",
       "      <th>sobel</th>\n",
       "      <td>0.872279</td>\n",
       "      <td>0.876447</td>\n",
       "      <td>0.869902</td>\n",
       "      <td>0.873162</td>\n",
       "    </tr>\n",
       "  </tbody>\n",
       "</table>\n",
       "</div>"
      ],
      "text/plain": [
       "           Accuracy Precision    Recall        F1\n",
       "SIFT BOVW  0.875312  0.916123  0.826074  0.868771\n",
       "scharr     0.837881  0.830954  0.852671  0.841673\n",
       "sobel      0.872279  0.876447  0.869902  0.873162"
      ]
     },
     "execution_count": 39,
     "metadata": {},
     "output_type": "execute_result"
    }
   ],
   "source": [
    "adaboost_lr_df"
   ]
  },
  {
   "cell_type": "code",
   "execution_count": 157,
   "id": "f0777f67",
   "metadata": {},
   "outputs": [
    {
     "data": {
      "image/png": "[encoded data removed]",
      "text/plain": [
       "<Figure size 864x432 with 1 Axes>"
      ]
     },
     "metadata": {
      "needs_background": "light"
     },
     "output_type": "display_data"
    }
   ],
   "source": [
    "plot_roc(y1, y2, prob_dt, ['scharr', 'sobel', 'SIFT BOVW'])"
   ]
  },
  {
   "cell_type": "code",
   "execution_count": 40,
   "id": "540cdd6c",
   "metadata": {},
   "outputs": [
    {
     "data": {
      "image/png": "[encoded data removed]",
      "text/plain": [
       "<Figure size 864x432 with 1 Axes>"
      ]
     },
     "metadata": {
      "needs_background": "light"
     },
     "output_type": "display_data"
    }
   ],
   "source": [
    "plot_roc(y1, y2, prob_lr, ['scharr', 'sobel', 'SIFT BOVW'])"
   ]
  }
 ],
 "metadata": {
  "kernelspec": {
   "display_name": "Python 3 (ipykernel)",
   "language": "python",
   "name": "python3"
  },
  "language_info": {
   "codemirror_mode": {
    "name": "ipython",
    "version": 3
   },
   "file_extension": ".py",
   "mimetype": "text/x-python",
   "name": "python",
   "nbconvert_exporter": "python",
   "pygments_lexer": "ipython3",
   "version": "3.8.11"
  }
 },
 "nbformat": 4,
 "nbformat_minor": 5
}
