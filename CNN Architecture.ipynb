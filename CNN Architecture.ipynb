{
 "cells": [
  {
   "cell_type": "code",
   "execution_count": 1,
   "id": "c9efcbe4",
   "metadata": {
    "id": "c9efcbe4"
   },
   "outputs": [],
   "source": [
    "import os\n",
    "import shutil\n",
    "import torch\n",
    "import torch.nn as nn\n",
    "import torch.nn.functional as F\n",
    "import torch.optim as optim\n",
    "from torchvision import datasets, transforms\n",
    "from torch.autograd import Variable\n",
    "import os\n",
    "import pandas as pd\n",
    "from torchvision.io import read_image\n",
    "from torch.utils.data import Dataset\n",
    "import cv2\n",
    "from torch.utils.data import DataLoader\n",
    "import numpy as np"
   ]
  },
  {
   "cell_type": "code",
   "execution_count": null,
   "id": "9817c612",
   "metadata": {
    "id": "9817c612"
   },
   "outputs": [],
   "source": [
    "from sklearn import metrics\n",
    "def metric(y_test, y_pred):\n",
    "    matrix = metrics.confusion_matrix(y_test, y_pred)\n",
    "    accuracy = metrics.accuracy_score(y_test, y_pred)\n",
    "    precision = metrics.precision_score(y_test, y_pred)\n",
    "    recall = metrics.recall_score(y_test, y_pred)\n",
    "    f1 = metrics.f1_score(y_test, y_pred)\n",
    "    return matrix,accuracy,precision,recall,f1"
   ]
  },
  {
   "cell_type": "markdown",
   "id": "kXul5zyA8zw8",
   "metadata": {
    "id": "kXul5zyA8zw8"
   },
   "source": [
    "<h1>Steps to load data from drive to google collab"
   ]
  },
  {
   "cell_type": "code",
   "execution_count": null,
   "id": "6INAEnE6u7t_",
   "metadata": {
    "colab": {
     "base_uri": "https://localhost:8080/"
    },
    "id": "6INAEnE6u7t_",
    "outputId": "c5363ba5-d6af-452d-8596-127b0a94bae9"
   },
   "outputs": [
    {
     "name": "stdout",
     "output_type": "stream",
     "text": [
      "Downloading...\n",
      "From: https://drive.google.com/uc?id=1pfywfqKz5OYzdADGPNpMEqBpX9TX1cMu\n",
      "To: /content/cell_images.zip\n",
      "100% 367M/367M [00:01<00:00, 189MB/s]\n"
     ]
    }
   ],
   "source": [
    "!gdown --id 1pfywfqKz5OYzdADGPNpMEqBpX9TX1cMu"
   ]
  },
  {
   "cell_type": "code",
   "execution_count": null,
   "id": "6PuIVQasJxq-",
   "metadata": {
    "colab": {
     "background_save": true,
     "base_uri": "https://localhost:8080/"
    },
    "id": "6PuIVQasJxq-",
    "outputId": "5b1ba639-e20a-46f5-ea68-0c299c229c81"
   },
   "outputs": [
    {
     "name": "stdout",
     "output_type": "stream",
     "text": [
      "Archive:  cell_images.zip\n",
      "replace __MACOSX/._cell_images? [y]es, [n]o, [A]ll, [N]one, [r]ename: "
     ]
    }
   ],
   "source": [
    "!unzip cell_images\n",
    "!mkdir dataset\n"
   ]
  },
  {
   "cell_type": "code",
   "execution_count": null,
   "id": "81geZQBwyVrX",
   "metadata": {
    "id": "81geZQBwyVrX"
   },
   "outputs": [],
   "source": [
    "# os.mkdir(\"dataset\")\n",
    "os.mkdir(\"dataset/train\")\n",
    "os.mkdir(\"dataset/test\")\n",
    "os.mkdir(\"dataset/train/parasite\")\n",
    "os.mkdir(\"dataset/test/parasite\")\n",
    "os.mkdir(\"dataset/train/uninfected\")\n",
    "os.mkdir(\"dataset/test/uninfected\")"
   ]
  },
  {
   "cell_type": "code",
   "execution_count": null,
   "id": "434bf49a",
   "metadata": {
    "id": "434bf49a"
   },
   "outputs": [],
   "source": [
    "def move_files(abs_dirname, train_dir, test_dir):\n",
    "    \"\"\"Move files into subdirectories.\"\"\"\n",
    "\n",
    "    files = [os.path.join(abs_dirname, f) for f in os.listdir(abs_dirname)]\n",
    "\n",
    "    i = 0\n",
    "    curr_subdir = None\n",
    "    files.sort()\n",
    "\n",
    "    for f in files:\n",
    "        # create new subdir if necessary\n",
    "        if i == 0:\n",
    "            curr_subdir = train_dir\n",
    "        \n",
    "        if i == 11025:\n",
    "            curr_subdir = test_dir\n",
    "\n",
    "        # move file to current dir\n",
    "        f_base = os.path.basename(f)\n",
    "        shutil.copy(f, os.path.join(curr_subdir, f_base))\n",
    "        i += 1\n",
    "        if(i%1000 == 0):\n",
    "            print(i)"
   ]
  },
  {
   "cell_type": "code",
   "execution_count": null,
   "id": "a8b8cd76",
   "metadata": {
    "id": "a8b8cd76"
   },
   "outputs": [],
   "source": [
    "abs_dirname = \"cell_images/Parasitized/\"\n",
    "train_dir = \"dataset/train/parasite\"\n",
    "test_dir = \"dataset/test/parasite\"\n",
    "move_files(abs_dirname, train_dir, test_dir)"
   ]
  },
  {
   "cell_type": "code",
   "execution_count": null,
   "id": "dd23f1ea",
   "metadata": {
    "id": "dd23f1ea"
   },
   "outputs": [],
   "source": [
    "abs_dirname = \"cell_images/Uninfected/\"\n",
    "train_dir = \"dataset/train/uninfected\"\n",
    "test_dir = \"dataset/test/uninfected\"\n",
    "move_files(abs_dirname, train_dir, test_dir)"
   ]
  },
  {
   "cell_type": "code",
   "execution_count": null,
   "id": "78c1e0a2",
   "metadata": {
    "id": "78c1e0a2"
   },
   "outputs": [],
   "source": [
    "import pandas as pd\n",
    "train_df = pd.DataFrame(columns = [\"path\", \"label\"])\n",
    "test_df = pd.DataFrame(columns = [\"path\", \"label\"])\n",
    "\n",
    "abs_dirname  = \"dataset/train/parasite\"\n",
    "files = [os.path.join(abs_dirname, f) for f in os.listdir(abs_dirname)]\n",
    "for f in files:\n",
    "    f_base = os.path.basename(f)\n",
    "    if f_base.endswith('.png'):\n",
    "        train_df = train_df.append({'path': f_base, \"label\": 1}, ignore_index=True)\n",
    "\n",
    "abs_dirname  = \"dataset/train/uninfected\"\n",
    "files = [os.path.join(abs_dirname, f) for f in os.listdir(abs_dirname)]\n",
    "for f in files:\n",
    "    f_base = os.path.basename(f)\n",
    "    if f_base.endswith('.png'):\n",
    "        train_df = train_df.append({'path': f_base, \"label\": 0}, ignore_index=True)\n",
    "    \n",
    "train_df.to_csv(\"dataset/train.csv\", index = False)\n",
    "\n",
    "\n",
    "abs_dirname  = \"dataset/test/parasite\"\n",
    "files = [os.path.join(abs_dirname, f) for f in os.listdir(abs_dirname)]\n",
    "for f in files:\n",
    "    f_base = os.path.basename(f)\n",
    "    if f_base.endswith('.png'):\n",
    "        test_df = test_df.append({'path': f_base, \"label\": 1}, ignore_index=True)\n",
    "    \n",
    "abs_dirname  = \"dataset/test/uninfected\"\n",
    "files = [os.path.join(abs_dirname, f) for f in os.listdir(abs_dirname)]\n",
    "for f in files:\n",
    "    f_base = os.path.basename(f)\n",
    "    if f_base.endswith('.png'):\n",
    "        test_df = test_df.append({'path': f_base, \"label\": 0}, ignore_index=True)\n",
    "    \n",
    "test_df.to_csv(\"dataset/test.csv\", index = False)"
   ]
  },
  {
   "cell_type": "code",
   "execution_count": null,
   "id": "98d92989",
   "metadata": {
    "id": "98d92989"
   },
   "outputs": [],
   "source": [
    "test_df"
   ]
  },
  {
   "cell_type": "markdown",
   "id": "EVqq57HO88kg",
   "metadata": {
    "id": "EVqq57HO88kg"
   },
   "source": [
    "<h1>Creating dataloader for CNN model"
   ]
  },
  {
   "cell_type": "code",
   "execution_count": null,
   "id": "c424884e",
   "metadata": {
    "id": "c424884e"
   },
   "outputs": [],
   "source": [
    "class CustomImageDataset(Dataset):\n",
    "    def __init__(self, annotations_file, img_dir, transform=None, target_transform=None):\n",
    "        self.img_labels = pd.read_csv(annotations_file)\n",
    "        self.img_dir = img_dir\n",
    "        self.transform = transform\n",
    "        self.target_transform = target_transform\n",
    "\n",
    "    def __len__(self):\n",
    "        return len(self.img_labels)\n",
    "\n",
    "    def __getitem__(self, idx):\n",
    "        label = self.img_labels['label'][idx]\n",
    "        class_type = \"parasite\" if label == 1 else \"uninfected\"\n",
    "        img_path = os.path.join(self.img_dir, class_type, self.img_labels.iloc[idx, 0])\n",
    "#         print(img_path)\n",
    "        image = cv2.imread(img_path)\n",
    "        image = cv2.resize(image, (32, 32))\n",
    "        image = np.moveaxis(image, -1, 0)\n",
    "        if self.transform:\n",
    "            image = self.transform(image)\n",
    "        if self.target_transform:\n",
    "            label = self.target_transform(label)\n",
    "        return image.astype(np.float32)/255.0, label"
   ]
  },
  {
   "cell_type": "code",
   "execution_count": null,
   "id": "93b44415",
   "metadata": {
    "id": "93b44415"
   },
   "outputs": [],
   "source": [
    "train_dir = \"dataset/train\"\n",
    "test_dir = \"dataset/test\"\n",
    "train_csv_path = \"dataset/train.csv\"\n",
    "test_csv_path = \"dataset/test.csv\""
   ]
  },
  {
   "cell_type": "code",
   "execution_count": null,
   "id": "7t0CAirAwB2O",
   "metadata": {
    "id": "7t0CAirAwB2O"
   },
   "outputs": [],
   "source": [
    "!ls"
   ]
  },
  {
   "cell_type": "markdown",
   "id": "c649f972",
   "metadata": {
    "id": "c649f972"
   },
   "source": [
    "<h1>CNN"
   ]
  },
  {
   "cell_type": "code",
   "execution_count": null,
   "id": "753c1807",
   "metadata": {
    "colab": {
     "base_uri": "https://localhost:8080/"
    },
    "id": "753c1807",
    "outputId": "741ec951-4d03-49d7-c682-1adc9e19507b"
   },
   "outputs": [
    {
     "data": {
      "text/plain": [
       "device(type='cpu')"
      ]
     },
     "execution_count": 18,
     "metadata": {},
     "output_type": "execute_result"
    }
   ],
   "source": [
    "# Device configuration\n",
    "device = torch.device('cuda' if torch.cuda.is_available() else 'cpu')\n",
    "device"
   ]
  },
  {
   "cell_type": "code",
   "execution_count": null,
   "id": "9e59fa85",
   "metadata": {
    "id": "9e59fa85"
   },
   "outputs": [],
   "source": [
    "# Hyper-parameters \n",
    "num_epochs = 100\n",
    "batch_size = 256\n",
    "learning_rate = 0.005"
   ]
  },
  {
   "cell_type": "code",
   "execution_count": null,
   "id": "00104c55",
   "metadata": {
    "id": "00104c55"
   },
   "outputs": [],
   "source": [
    "##train and test dataloader\n",
    "training_data = CustomImageDataset(annotations_file=train_csv_path, img_dir= train_dir)\n",
    "train_loader = DataLoader(training_data, batch_size=batch_size, shuffle=True)\n",
    "testing_data = CustomImageDataset(annotations_file=test_csv_path, img_dir= test_dir)\n",
    "test_loader = DataLoader(testing_data, batch_size=1024, shuffle=True)"
   ]
  },
  {
   "cell_type": "code",
   "execution_count": null,
   "id": "2AKtgwnm6Jy5",
   "metadata": {
    "id": "2AKtgwnm6Jy5"
   },
   "outputs": [],
   "source": [
    "#Dataframe to store accuracy\n",
    "train_accuracy_df = pd.DataFrame(columns = ['Accuracy', 'Precision', 'Recall','F1'], \n",
    "                   index = ['VGG11', 'VGG13', 'VGG16', 'VGG19'])\n",
    "\n",
    "test_accuracy_df = pd.DataFrame(columns = ['Accuracy', 'Precision', 'Recall','F1'], \n",
    "                   index = ['VGG11', 'VGG13', 'VGG16', 'VGG19'])"
   ]
  },
  {
   "cell_type": "code",
   "execution_count": 2,
   "id": "ab199ed0",
   "metadata": {
    "id": "ab199ed0"
   },
   "outputs": [],
   "source": [
    "# clas for CNN architecture\n",
    "class ConvNet(nn.Module):\n",
    "    def __init__(self, cnn_type, in_channels=3, num_classes=1):\n",
    "        super(ConvNet, self).__init__()\n",
    "        self.in_channels = in_channels\n",
    "        self.cnn_type = cnn_type\n",
    "        self.VGG_types = {\n",
    "    'VGG11': [64, 'M', 128, 'M', 256, 256, 'M', 512, 512, 'M', 512, 512, 'M'],\n",
    "    'VGG13': [64, 64, 'M', 128, 128, 'M', 256, 256, 'M', 512, 512, 'M', 512, 512, 'M'],\n",
    "    'VGG16': [64, 64, 'M', 128, 128, 'M', 256, 256, 256, 'M', 512, 512, 512, 'M', 512, 512, 512, 'M'],\n",
    "    'VGG19': [64, 64, 'M', 128, 128, 'M', 256, 256, 256, 256, 'M', 512, 512, 512, 512, 'M', 512, 512, 512, 512, 'M'],}\n",
    "        self.conv_layers = self.create_conv_layers(self.VGG_types[self.cnn_type])\n",
    "        \n",
    "        self.fcs = nn.Sequential(\n",
    "            nn.Linear(512, 512),\n",
    "            nn.ReLU(),\n",
    "            nn.Dropout(p = 0.5),\n",
    "            nn.Linear(512, 512),\n",
    "            nn.ReLU(),\n",
    "            nn.Dropout(p = 0.5),\n",
    "            nn.Linear(512, num_classes)\n",
    "            )\n",
    "        \n",
    "    def forward(self, x):\n",
    "        x = self.conv_layers(x)\n",
    "        x = x.reshape(x.shape[0], -1)\n",
    "        x = self.fcs(x)\n",
    "        return torch.sigmoid(x)\n",
    "\n",
    "    def create_conv_layers(self, architecture):\n",
    "        layers = []\n",
    "        in_channels = self.in_channels\n",
    "        \n",
    "        for x in architecture:\n",
    "            if type(x) == int:\n",
    "                out_channels = x\n",
    "                \n",
    "                layers += [nn.Conv2d(in_channels=in_channels,out_channels=out_channels,\n",
    "                                     kernel_size=(3,3), stride=(1,1), padding=(1,1)),\n",
    "                           nn.BatchNorm2d(x),\n",
    "                           nn.ReLU()]\n",
    "                in_channels = x\n",
    "            elif x == 'M':\n",
    "                layers += [nn.MaxPool2d(kernel_size=(2,2), stride=(2,2))]\n",
    "                \n",
    "        return nn.Sequential(*layers)\n"
   ]
  },
  {
   "cell_type": "code",
   "execution_count": null,
   "id": "yeq_CG4P1-5k",
   "metadata": {
    "id": "yeq_CG4P1-5k"
   },
   "outputs": [],
   "source": [
    "#Function to train the model\n",
    "def train(cnn_type, check):\n",
    "  model = ConvNet(cnn_type = cnn_type).to(device)\n",
    "  PATH = f'./{model.cnn_type}.pth'\n",
    "  if(check == 'save'):\n",
    "    pass\n",
    "  elif check == 'load':\n",
    "    print(\"Model already present\")\n",
    "    model.load_state_dict(torch.load(PATH))\n",
    "\n",
    "  model.train()\n",
    "  criterion = nn.BCELoss()\n",
    "  optimizer = torch.optim.Adam(model.parameters(), lr = learning_rate)\n",
    "  loss_plot = []\n",
    "  condition = 0\n",
    "  n_total_steps = len(train_loader)\n",
    "  for epoch in range(num_epochs):\n",
    "    for i, (images, labels) in enumerate(train_loader):\n",
    "      images = images.to(device)\n",
    "      labels = labels.unsqueeze(1)\n",
    "      labels = labels.float()\n",
    "      labels = labels.to(device)\n",
    "\n",
    "      # Forward pass\n",
    "      outputs = model(images)\n",
    "      loss = criterion(outputs, labels)\n",
    "\n",
    "     # Backward and optimize\n",
    "      optimizer.zero_grad()\n",
    "      loss.backward()\n",
    "      optimizer.step()\n",
    "      condition = loss.item()\n",
    "      if (i+1) % 64 == 0:\n",
    "        print (f'Epoch [{epoch+1}/{num_epochs}], Loss: {loss.item():.6f}')\n",
    "        loss_plot.append(loss.item())\n",
    "    print('Model saved after epoch: ', epoch)\n",
    "    torch.save(model.state_dict(), PATH)\n",
    "      #    if condition < 5e-7:\n",
    "      #     loss_plot.append(loss.item())\n",
    "      #     break\n",
    "      #  if condition < 5e-7:\n",
    "      #    print(\"Terminating at epoch level\")\n",
    "      #    break\n",
    "  print('Finished Training Completely')\n",
    "  torch.save(model.state_dict(), PATH)"
   ]
  },
  {
   "cell_type": "code",
   "execution_count": null,
   "id": "351994db",
   "metadata": {
    "id": "351994db",
    "scrolled": true
   },
   "outputs": [],
   "source": [
    "#Function to evaluate the test dataset\n",
    "def test(data_loader, model):\n",
    "  with torch.no_grad():\n",
    "    y_pred = []\n",
    "    y_hat = []\n",
    "    for images, labels in data_loader:\n",
    "        images = images.to(device)\n",
    "        labels = labels.to(device)\n",
    "        outputs = model(images)\n",
    "        outputs = outputs.cpu().detach().numpy()\n",
    "        labels = labels.cpu().detach().numpy()\n",
    "        y_pred.extend(outputs)\n",
    "        y_hat.extend(labels)\n",
    "  y_pred = np.array(y_pred).flatten()\n",
    "  y_hat = np.array(y_hat).flatten()\n",
    "  y_pred =  np.where(y_pred>=0.5, 1, 0) \n",
    "  return metric(y_hat, y_pred) "
   ]
  },
  {
   "cell_type": "code",
   "execution_count": null,
   "id": "cdbaa1bb",
   "metadata": {
    "colab": {
     "base_uri": "https://localhost:8080/"
    },
    "id": "cdbaa1bb",
    "outputId": "44adff96-dfcd-4dec-b078-b357064ccf56"
   },
   "outputs": [
    {
     "name": "stdout",
     "output_type": "stream",
     "text": [
      "Model already present\n",
      "Epoch [1/100], Loss: 0.006328\n",
      "Model saved after epoch:  0\n",
      "Epoch [2/100], Loss: 0.013583\n",
      "Model saved after epoch:  1\n",
      "Epoch [3/100], Loss: 0.005936\n",
      "Model saved after epoch:  2\n",
      "Epoch [4/100], Loss: 0.001391\n",
      "Model saved after epoch:  3\n",
      "Epoch [5/100], Loss: 0.018151\n",
      "Model saved after epoch:  4\n",
      "Epoch [6/100], Loss: 0.006892\n",
      "Model saved after epoch:  5\n",
      "Epoch [7/100], Loss: 0.007882\n",
      "Model saved after epoch:  6\n",
      "Epoch [8/100], Loss: 0.000130\n",
      "Model saved after epoch:  7\n",
      "Epoch [9/100], Loss: 0.002457\n",
      "Model saved after epoch:  8\n",
      "Epoch [10/100], Loss: 0.005025\n",
      "Model saved after epoch:  9\n",
      "Epoch [11/100], Loss: 0.007549\n",
      "Model saved after epoch:  10\n",
      "Epoch [12/100], Loss: 0.001089\n",
      "Model saved after epoch:  11\n",
      "Epoch [13/100], Loss: 0.035273\n",
      "Model saved after epoch:  12\n",
      "Epoch [14/100], Loss: 0.004374\n",
      "Model saved after epoch:  13\n",
      "Epoch [15/100], Loss: 0.002940\n",
      "Model saved after epoch:  14\n",
      "Epoch [16/100], Loss: 0.001914\n",
      "Model saved after epoch:  15\n",
      "Epoch [17/100], Loss: 0.002556\n",
      "Model saved after epoch:  16\n",
      "Epoch [18/100], Loss: 0.007939\n",
      "Model saved after epoch:  17\n",
      "Epoch [19/100], Loss: 0.011416\n",
      "Model saved after epoch:  18\n",
      "Epoch [20/100], Loss: 0.000083\n",
      "Model saved after epoch:  19\n",
      "Epoch [21/100], Loss: 0.005204\n",
      "Model saved after epoch:  20\n",
      "Epoch [22/100], Loss: 0.006805\n",
      "Model saved after epoch:  21\n",
      "Epoch [23/100], Loss: 0.005901\n",
      "Model saved after epoch:  22\n",
      "Epoch [24/100], Loss: 0.011219\n",
      "Model saved after epoch:  23\n",
      "Epoch [25/100], Loss: 0.000019\n",
      "Model saved after epoch:  24\n",
      "Epoch [26/100], Loss: 0.036291\n",
      "Model saved after epoch:  25\n",
      "Epoch [27/100], Loss: 0.020112\n",
      "Model saved after epoch:  26\n",
      "Epoch [28/100], Loss: 0.003317\n",
      "Model saved after epoch:  27\n",
      "Epoch [29/100], Loss: 0.426644\n",
      "Model saved after epoch:  28\n",
      "Epoch [30/100], Loss: 0.000220\n",
      "Model saved after epoch:  29\n",
      "Epoch [31/100], Loss: 0.000868\n",
      "Model saved after epoch:  30\n",
      "Epoch [32/100], Loss: 0.014400\n",
      "Model saved after epoch:  31\n",
      "Epoch [33/100], Loss: 0.011240\n",
      "Model saved after epoch:  32\n",
      "Epoch [34/100], Loss: 0.011685\n",
      "Model saved after epoch:  33\n",
      "Epoch [35/100], Loss: 0.015112\n",
      "Model saved after epoch:  34\n",
      "Epoch [36/100], Loss: 0.008966\n",
      "Model saved after epoch:  35\n",
      "Epoch [37/100], Loss: 0.000216\n",
      "Model saved after epoch:  36\n",
      "Epoch [38/100], Loss: 0.000013\n",
      "Model saved after epoch:  37\n",
      "Epoch [39/100], Loss: 0.000053\n",
      "Model saved after epoch:  38\n",
      "Epoch [40/100], Loss: 0.016317\n",
      "Model saved after epoch:  39\n",
      "Epoch [41/100], Loss: 0.005557\n",
      "Model saved after epoch:  40\n",
      "Epoch [42/100], Loss: 0.001803\n",
      "Model saved after epoch:  41\n",
      "Epoch [43/100], Loss: 0.000077\n",
      "Model saved after epoch:  42\n",
      "Epoch [44/100], Loss: 0.006157\n",
      "Model saved after epoch:  43\n",
      "Epoch [45/100], Loss: 0.012759\n",
      "Model saved after epoch:  44\n",
      "Epoch [46/100], Loss: 0.000712\n",
      "Model saved after epoch:  45\n",
      "Epoch [47/100], Loss: 0.002308\n",
      "Model saved after epoch:  46\n",
      "Epoch [48/100], Loss: 0.000042\n",
      "Model saved after epoch:  47\n",
      "Epoch [49/100], Loss: 0.000272\n",
      "Model saved after epoch:  48\n",
      "Epoch [50/100], Loss: 0.009531\n",
      "Model saved after epoch:  49\n",
      "Epoch [51/100], Loss: 0.003467\n",
      "Model saved after epoch:  50\n",
      "Epoch [52/100], Loss: 0.000007\n",
      "Model saved after epoch:  51\n",
      "Epoch [53/100], Loss: 0.006801\n",
      "Model saved after epoch:  52\n",
      "Epoch [54/100], Loss: 0.001728\n",
      "Model saved after epoch:  53\n",
      "Epoch [55/100], Loss: 0.000027\n",
      "Model saved after epoch:  54\n",
      "Epoch [56/100], Loss: 0.000230\n",
      "Model saved after epoch:  55\n",
      "Epoch [57/100], Loss: 0.011881\n",
      "Model saved after epoch:  56\n",
      "Epoch [58/100], Loss: 0.005393\n",
      "Model saved after epoch:  57\n",
      "Epoch [59/100], Loss: 0.001446\n",
      "Model saved after epoch:  58\n",
      "Epoch [60/100], Loss: 0.011584\n",
      "Model saved after epoch:  59\n",
      "Epoch [61/100], Loss: 0.006891\n",
      "Model saved after epoch:  60\n",
      "Epoch [62/100], Loss: 0.010623\n",
      "Model saved after epoch:  61\n",
      "Epoch [63/100], Loss: 0.000144\n",
      "Model saved after epoch:  62\n",
      "Epoch [64/100], Loss: 0.000004\n",
      "Model saved after epoch:  63\n",
      "Epoch [65/100], Loss: 0.000019\n",
      "Model saved after epoch:  64\n",
      "Epoch [66/100], Loss: 0.001599\n",
      "Model saved after epoch:  65\n",
      "Epoch [67/100], Loss: 0.025655\n",
      "Model saved after epoch:  66\n",
      "Epoch [68/100], Loss: 0.017166\n",
      "Model saved after epoch:  67\n",
      "Epoch [69/100], Loss: 0.010402\n",
      "Model saved after epoch:  68\n",
      "Epoch [70/100], Loss: 0.001728\n",
      "Model saved after epoch:  69\n",
      "Epoch [71/100], Loss: 0.000496\n",
      "Model saved after epoch:  70\n",
      "Epoch [72/100], Loss: 0.012918\n",
      "Model saved after epoch:  71\n",
      "Epoch [73/100], Loss: 0.000373\n",
      "Model saved after epoch:  72\n",
      "Epoch [74/100], Loss: 0.008571\n",
      "Model saved after epoch:  73\n",
      "Epoch [75/100], Loss: 0.000145\n",
      "Model saved after epoch:  74\n",
      "Epoch [76/100], Loss: 0.000054\n",
      "Model saved after epoch:  75\n",
      "Epoch [77/100], Loss: 0.000084\n",
      "Model saved after epoch:  76\n",
      "Epoch [78/100], Loss: 0.000002\n",
      "Model saved after epoch:  77\n",
      "Epoch [79/100], Loss: 0.000253\n",
      "Model saved after epoch:  78\n",
      "Epoch [80/100], Loss: 0.000018\n",
      "Model saved after epoch:  79\n",
      "Epoch [81/100], Loss: 0.000170\n",
      "Model saved after epoch:  80\n",
      "Epoch [82/100], Loss: 0.000197\n",
      "Model saved after epoch:  81\n",
      "Epoch [83/100], Loss: 0.008447\n",
      "Model saved after epoch:  82\n",
      "Epoch [84/100], Loss: 0.000057\n",
      "Model saved after epoch:  83\n",
      "Epoch [85/100], Loss: 0.006077\n",
      "Model saved after epoch:  84\n",
      "Epoch [86/100], Loss: 0.000769\n",
      "Model saved after epoch:  85\n",
      "Epoch [87/100], Loss: 0.001174\n",
      "Model saved after epoch:  86\n",
      "Epoch [88/100], Loss: 0.033119\n",
      "Model saved after epoch:  87\n",
      "Epoch [89/100], Loss: 0.000870\n",
      "Model saved after epoch:  88\n",
      "Epoch [90/100], Loss: 0.007371\n",
      "Model saved after epoch:  89\n",
      "Epoch [91/100], Loss: 0.018386\n",
      "Model saved after epoch:  90\n",
      "Epoch [92/100], Loss: 0.000003\n",
      "Model saved after epoch:  91\n",
      "Epoch [93/100], Loss: 0.000154\n",
      "Model saved after epoch:  92\n",
      "Epoch [94/100], Loss: 0.001406\n",
      "Model saved after epoch:  93\n",
      "Epoch [95/100], Loss: 0.000000\n",
      "Model saved after epoch:  94\n",
      "Epoch [96/100], Loss: 0.002257\n",
      "Model saved after epoch:  95\n",
      "Epoch [97/100], Loss: 0.014130\n",
      "Model saved after epoch:  96\n",
      "Epoch [98/100], Loss: 0.000546\n",
      "Model saved after epoch:  97\n",
      "Epoch [99/100], Loss: 0.000075\n",
      "Model saved after epoch:  98\n",
      "Epoch [100/100], Loss: 0.000001\n",
      "Model saved after epoch:  99\n",
      "Finished Training Completely\n"
     ]
    }
   ],
   "source": [
    "train('VGG11', check = 'load')"
   ]
  },
  {
   "cell_type": "code",
   "execution_count": null,
   "id": "dg4GvERECH5v",
   "metadata": {
    "colab": {
     "base_uri": "https://localhost:8080/"
    },
    "id": "dg4GvERECH5v",
    "outputId": "d9b2d38e-214a-460f-9123-0c7b0efa6e6b"
   },
   "outputs": [
    {
     "data": {
      "text/plain": [
       "<All keys matched successfully>"
      ]
     },
     "execution_count": 33,
     "metadata": {},
     "output_type": "execute_result"
    }
   ],
   "source": [
    "model = ConvNet(cnn_type = 'VGG11').to(device)\n",
    "PATH = f'./VGG11.pth'\n",
    "model.load_state_dict(torch.load(PATH))"
   ]
  },
  {
   "cell_type": "code",
   "execution_count": null,
   "id": "c37f65d3",
   "metadata": {
    "colab": {
     "base_uri": "https://localhost:8080/"
    },
    "id": "c37f65d3",
    "outputId": "81c758c1-2fdc-4cea-d601-133583f61833"
   },
   "outputs": [
    {
     "data": {
      "text/plain": [
       "array([[2591,  163],\n",
       "       [ 112, 2642]])"
      ]
     },
     "execution_count": 34,
     "metadata": {},
     "output_type": "execute_result"
    }
   ],
   "source": [
    "matrix, accuracy, precision, recall, f1 = test(test_loader, model)\n",
    "test_accuracy_df.loc['VGG11'] = [accuracy,precision,recall,f1]\n",
    "matrix"
   ]
  },
  {
   "cell_type": "code",
   "execution_count": null,
   "id": "4816f4ff",
   "metadata": {
    "colab": {
     "base_uri": "https://localhost:8080/"
    },
    "id": "4816f4ff",
    "outputId": "3a10a746-47d8-4c30-af9b-84a5958c7237"
   },
   "outputs": [
    {
     "data": {
      "text/plain": [
       "array([[11016,     9],\n",
       "       [    1, 11024]])"
      ]
     },
     "execution_count": 35,
     "metadata": {},
     "output_type": "execute_result"
    }
   ],
   "source": [
    "matrix, accuracy, precision, recall, f1 = test(train_loader, model)\n",
    "train_accuracy_df.loc['VGG11'] = [accuracy,precision,recall,f1]\n",
    "matrix"
   ]
  },
  {
   "cell_type": "markdown",
   "id": "K3RluQVC1MA2",
   "metadata": {
    "id": "K3RluQVC1MA2"
   },
   "source": [
    "VGG13"
   ]
  },
  {
   "cell_type": "code",
   "execution_count": null,
   "id": "f798f3d9",
   "metadata": {
    "colab": {
     "base_uri": "https://localhost:8080/",
     "height": 1000
    },
    "id": "f798f3d9",
    "outputId": "8bb0689c-394f-4267-db91-06f0a4f0f3f7"
   },
   "outputs": [
    {
     "name": "stdout",
     "output_type": "stream",
     "text": [
      "Epoch [1/100], Loss: 0.680203\n",
      "Model saved after epoch:  0\n",
      "Epoch [2/100], Loss: 0.612463\n",
      "Model saved after epoch:  1\n",
      "Epoch [3/100], Loss: 0.200373\n",
      "Model saved after epoch:  2\n",
      "Epoch [4/100], Loss: 0.129882\n",
      "Model saved after epoch:  3\n",
      "Epoch [5/100], Loss: 0.131890\n",
      "Model saved after epoch:  4\n",
      "Epoch [6/100], Loss: 0.152770\n",
      "Model saved after epoch:  5\n",
      "Epoch [7/100], Loss: 0.146547\n",
      "Model saved after epoch:  6\n",
      "Epoch [8/100], Loss: 0.158958\n",
      "Model saved after epoch:  7\n",
      "Epoch [9/100], Loss: 0.158812\n",
      "Model saved after epoch:  8\n",
      "Epoch [10/100], Loss: 0.170253\n",
      "Model saved after epoch:  9\n",
      "Epoch [11/100], Loss: 0.089195\n",
      "Model saved after epoch:  10\n",
      "Epoch [12/100], Loss: 0.108425\n",
      "Model saved after epoch:  11\n",
      "Epoch [13/100], Loss: 0.145614\n",
      "Model saved after epoch:  12\n",
      "Epoch [14/100], Loss: 0.078569\n",
      "Model saved after epoch:  13\n",
      "Epoch [15/100], Loss: 0.177840\n",
      "Model saved after epoch:  14\n",
      "Epoch [16/100], Loss: 0.138236\n",
      "Model saved after epoch:  15\n",
      "Epoch [17/100], Loss: 0.108747\n",
      "Model saved after epoch:  16\n",
      "Epoch [18/100], Loss: 0.100721\n",
      "Model saved after epoch:  17\n",
      "Epoch [19/100], Loss: 0.055601\n",
      "Model saved after epoch:  18\n",
      "Epoch [20/100], Loss: 0.071358\n",
      "Model saved after epoch:  19\n",
      "Epoch [21/100], Loss: 0.068697\n",
      "Model saved after epoch:  20\n",
      "Epoch [22/100], Loss: 0.075297\n",
      "Model saved after epoch:  21\n",
      "Epoch [23/100], Loss: 0.091768\n",
      "Model saved after epoch:  22\n",
      "Epoch [24/100], Loss: 0.040042\n",
      "Model saved after epoch:  23\n",
      "Epoch [25/100], Loss: 0.089823\n",
      "Model saved after epoch:  24\n",
      "Epoch [26/100], Loss: 0.084764\n",
      "Model saved after epoch:  25\n",
      "Epoch [27/100], Loss: 0.082295\n",
      "Model saved after epoch:  26\n",
      "Epoch [28/100], Loss: 0.046833\n",
      "Model saved after epoch:  27\n",
      "Epoch [29/100], Loss: 0.059701\n",
      "Model saved after epoch:  28\n",
      "Epoch [30/100], Loss: 0.074551\n",
      "Model saved after epoch:  29\n",
      "Epoch [31/100], Loss: 0.057859\n",
      "Model saved after epoch:  30\n",
      "Epoch [32/100], Loss: 0.068928\n",
      "Model saved after epoch:  31\n",
      "Epoch [33/100], Loss: 0.056643\n",
      "Model saved after epoch:  32\n",
      "Epoch [34/100], Loss: 0.061635\n",
      "Model saved after epoch:  33\n",
      "Epoch [35/100], Loss: 0.035922\n",
      "Model saved after epoch:  34\n",
      "Epoch [36/100], Loss: 0.024982\n",
      "Model saved after epoch:  35\n",
      "Epoch [37/100], Loss: 0.061530\n",
      "Model saved after epoch:  36\n",
      "Epoch [38/100], Loss: 0.027478\n",
      "Model saved after epoch:  37\n",
      "Epoch [39/100], Loss: 0.033832\n",
      "Model saved after epoch:  38\n",
      "Epoch [40/100], Loss: 0.031929\n",
      "Model saved after epoch:  39\n",
      "Epoch [41/100], Loss: 0.011749\n",
      "Model saved after epoch:  40\n",
      "Epoch [42/100], Loss: 0.030002\n",
      "Model saved after epoch:  41\n",
      "Epoch [43/100], Loss: 0.004253\n",
      "Model saved after epoch:  42\n",
      "Epoch [44/100], Loss: 0.026428\n",
      "Model saved after epoch:  43\n",
      "Epoch [45/100], Loss: 0.039643\n",
      "Model saved after epoch:  44\n",
      "Epoch [46/100], Loss: 0.022404\n",
      "Model saved after epoch:  45\n",
      "Epoch [47/100], Loss: 0.014447\n",
      "Model saved after epoch:  46\n",
      "Epoch [48/100], Loss: 0.003196\n",
      "Model saved after epoch:  47\n",
      "Epoch [49/100], Loss: 0.019972\n",
      "Model saved after epoch:  48\n",
      "Epoch [50/100], Loss: 0.008228\n",
      "Model saved after epoch:  49\n",
      "Epoch [51/100], Loss: 0.026602\n",
      "Model saved after epoch:  50\n",
      "Epoch [52/100], Loss: 0.004239\n",
      "Model saved after epoch:  51\n",
      "Epoch [53/100], Loss: 0.047928\n",
      "Model saved after epoch:  52\n",
      "Epoch [54/100], Loss: 0.069585\n",
      "Model saved after epoch:  53\n",
      "Epoch [55/100], Loss: 0.046996\n",
      "Model saved after epoch:  54\n",
      "Epoch [56/100], Loss: 0.051722\n",
      "Model saved after epoch:  55\n",
      "Epoch [57/100], Loss: 0.037187\n",
      "Model saved after epoch:  56\n",
      "Epoch [58/100], Loss: 0.003866\n",
      "Model saved after epoch:  57\n",
      "Epoch [59/100], Loss: 0.008282\n",
      "Model saved after epoch:  58\n",
      "Epoch [60/100], Loss: 0.003923\n",
      "Model saved after epoch:  59\n",
      "Epoch [61/100], Loss: 0.102395\n",
      "Model saved after epoch:  60\n"
     ]
    },
    {
     "ename": "KeyboardInterrupt",
     "evalue": "ignored",
     "output_type": "error",
     "traceback": [
      "\u001b[0;31m---------------------------------------------------------------------------\u001b[0m",
      "\u001b[0;31mKeyboardInterrupt\u001b[0m                         Traceback (most recent call last)",
      "\u001b[0;32m<ipython-input-168-c6b25f5a27fe>\u001b[0m in \u001b[0;36m<module>\u001b[0;34m()\u001b[0m\n\u001b[0;32m----> 1\u001b[0;31m \u001b[0mtrain\u001b[0m\u001b[0;34m(\u001b[0m\u001b[0;34m'VGG13'\u001b[0m\u001b[0;34m,\u001b[0m \u001b[0mcheck\u001b[0m \u001b[0;34m=\u001b[0m \u001b[0;34m'save'\u001b[0m\u001b[0;34m)\u001b[0m\u001b[0;34m\u001b[0m\u001b[0;34m\u001b[0m\u001b[0m\n\u001b[0m",
      "\u001b[0;32m<ipython-input-101-d995a64cd68e>\u001b[0m in \u001b[0;36mtrain\u001b[0;34m(cnn_type, check)\u001b[0m\n\u001b[1;32m     29\u001b[0m       \u001b[0mloss\u001b[0m\u001b[0;34m.\u001b[0m\u001b[0mbackward\u001b[0m\u001b[0;34m(\u001b[0m\u001b[0;34m)\u001b[0m\u001b[0;34m\u001b[0m\u001b[0;34m\u001b[0m\u001b[0m\n\u001b[1;32m     30\u001b[0m       \u001b[0moptimizer\u001b[0m\u001b[0;34m.\u001b[0m\u001b[0mstep\u001b[0m\u001b[0;34m(\u001b[0m\u001b[0;34m)\u001b[0m\u001b[0;34m\u001b[0m\u001b[0;34m\u001b[0m\u001b[0m\n\u001b[0;32m---> 31\u001b[0;31m       \u001b[0mcondition\u001b[0m \u001b[0;34m=\u001b[0m \u001b[0mloss\u001b[0m\u001b[0;34m.\u001b[0m\u001b[0mitem\u001b[0m\u001b[0;34m(\u001b[0m\u001b[0;34m)\u001b[0m\u001b[0;34m\u001b[0m\u001b[0;34m\u001b[0m\u001b[0m\n\u001b[0m\u001b[1;32m     32\u001b[0m       \u001b[0;32mif\u001b[0m \u001b[0;34m(\u001b[0m\u001b[0mi\u001b[0m\u001b[0;34m+\u001b[0m\u001b[0;36m1\u001b[0m\u001b[0;34m)\u001b[0m \u001b[0;34m%\u001b[0m \u001b[0;36m64\u001b[0m \u001b[0;34m==\u001b[0m \u001b[0;36m0\u001b[0m\u001b[0;34m:\u001b[0m\u001b[0;34m\u001b[0m\u001b[0;34m\u001b[0m\u001b[0m\n\u001b[1;32m     33\u001b[0m         \u001b[0mprint\u001b[0m \u001b[0;34m(\u001b[0m\u001b[0;34mf'Epoch [{epoch+1}/{num_epochs}], Loss: {loss.item():.6f}'\u001b[0m\u001b[0;34m)\u001b[0m\u001b[0;34m\u001b[0m\u001b[0;34m\u001b[0m\u001b[0m\n",
      "\u001b[0;31mKeyboardInterrupt\u001b[0m: "
     ]
    }
   ],
   "source": [
    "train('VGG13', check = 'save')"
   ]
  },
  {
   "cell_type": "code",
   "execution_count": null,
   "id": "jom_5uzJDS6Y",
   "metadata": {
    "colab": {
     "base_uri": "https://localhost:8080/"
    },
    "id": "jom_5uzJDS6Y",
    "outputId": "f916e316-df69-4848-84d9-20965043829a"
   },
   "outputs": [
    {
     "data": {
      "text/plain": [
       "<All keys matched successfully>"
      ]
     },
     "execution_count": 36,
     "metadata": {},
     "output_type": "execute_result"
    }
   ],
   "source": [
    "model = ConvNet(cnn_type = 'VGG13').to(device)\n",
    "PATH = f'./VGG13.pth'\n",
    "model.load_state_dict(torch.load(PATH))"
   ]
  },
  {
   "cell_type": "code",
   "execution_count": null,
   "id": "41Lw5mlk4f8F",
   "metadata": {
    "colab": {
     "base_uri": "https://localhost:8080/"
    },
    "id": "41Lw5mlk4f8F",
    "outputId": "e9006bf0-3270-4c36-b66c-d9b6bc440e33"
   },
   "outputs": [
    {
     "data": {
      "text/plain": [
       "array([[2605,  149],\n",
       "       [ 110, 2644]])"
      ]
     },
     "execution_count": 37,
     "metadata": {},
     "output_type": "execute_result"
    }
   ],
   "source": [
    "matrix, accuracy, precision, recall, f1 = test(test_loader, model)\n",
    "test_accuracy_df.loc['VGG13'] = [accuracy,precision,recall,f1]\n",
    "matrix"
   ]
  },
  {
   "cell_type": "code",
   "execution_count": null,
   "id": "9pMmTtO54kEv",
   "metadata": {
    "colab": {
     "base_uri": "https://localhost:8080/"
    },
    "id": "9pMmTtO54kEv",
    "outputId": "b1830600-cfbb-416e-d40e-8af9822cc38e"
   },
   "outputs": [
    {
     "data": {
      "text/plain": [
       "array([[10900,   125],\n",
       "       [   61, 10964]])"
      ]
     },
     "execution_count": 38,
     "metadata": {},
     "output_type": "execute_result"
    }
   ],
   "source": [
    "matrix, accuracy, precision, recall, f1 = test(train_loader, model)\n",
    "train_accuracy_df.loc['VGG13'] = [accuracy,precision,recall,f1]\n",
    "matrix"
   ]
  },
  {
   "cell_type": "markdown",
   "id": "Kl9jQ-8-4r_L",
   "metadata": {
    "id": "Kl9jQ-8-4r_L"
   },
   "source": [
    "VGG 16"
   ]
  },
  {
   "cell_type": "code",
   "execution_count": null,
   "id": "8NJDbqcR5drr",
   "metadata": {
    "id": "8NJDbqcR5drr"
   },
   "outputs": [],
   "source": [
    "train('VGG16', check = 'load')"
   ]
  },
  {
   "cell_type": "code",
   "execution_count": null,
   "id": "Gbc5TVnFDVSk",
   "metadata": {
    "colab": {
     "base_uri": "https://localhost:8080/"
    },
    "id": "Gbc5TVnFDVSk",
    "outputId": "afa1f315-19f9-43ae-e8c3-eeeddbb66071"
   },
   "outputs": [
    {
     "data": {
      "text/plain": [
       "<All keys matched successfully>"
      ]
     },
     "execution_count": 39,
     "metadata": {},
     "output_type": "execute_result"
    }
   ],
   "source": [
    "model = ConvNet(cnn_type = 'VGG16').to(device)\n",
    "PATH = f'./VGG16.pth'\n",
    "model.load_state_dict(torch.load(PATH))"
   ]
  },
  {
   "cell_type": "code",
   "execution_count": null,
   "id": "WIfGmrxX4vhk",
   "metadata": {
    "colab": {
     "base_uri": "https://localhost:8080/"
    },
    "id": "WIfGmrxX4vhk",
    "outputId": "4b6e2868-f9b6-4003-fdeb-34771e814f7d"
   },
   "outputs": [
    {
     "data": {
      "text/plain": [
       "array([[2670,   84],\n",
       "       [ 150, 2604]])"
      ]
     },
     "execution_count": 40,
     "metadata": {},
     "output_type": "execute_result"
    }
   ],
   "source": [
    "matrix, accuracy, precision, recall, f1 = test(test_loader, model)\n",
    "test_accuracy_df.loc['VGG16'] = [accuracy,precision,recall,f1]\n",
    "matrix"
   ]
  },
  {
   "cell_type": "code",
   "execution_count": null,
   "id": "gwQPYMj55ckb",
   "metadata": {
    "colab": {
     "base_uri": "https://localhost:8080/"
    },
    "id": "gwQPYMj55ckb",
    "outputId": "b3bbe945-5860-49a8-ea86-2a9a5cb756e7"
   },
   "outputs": [
    {
     "data": {
      "text/plain": [
       "array([[10917,   108],\n",
       "       [   95, 10930]])"
      ]
     },
     "execution_count": 41,
     "metadata": {},
     "output_type": "execute_result"
    }
   ],
   "source": [
    "matrix, accuracy, precision, recall, f1 = test(train_loader, model)\n",
    "train_accuracy_df.loc['VGG16'] = [accuracy,precision,recall,f1]\n",
    "matrix"
   ]
  },
  {
   "cell_type": "markdown",
   "id": "9weCY1qc5iYk",
   "metadata": {
    "id": "9weCY1qc5iYk"
   },
   "source": [
    "VGG 19"
   ]
  },
  {
   "cell_type": "code",
   "execution_count": null,
   "id": "Quj45-v55hsz",
   "metadata": {
    "colab": {
     "base_uri": "https://localhost:8080/"
    },
    "id": "Quj45-v55hsz",
    "outputId": "1facdc84-d92b-452d-a73f-7e0399d90c60"
   },
   "outputs": [
    {
     "name": "stdout",
     "output_type": "stream",
     "text": [
      "Epoch [1/100], Loss: 0.671630\n",
      "Model saved after epoch:  0\n",
      "Epoch [2/100], Loss: 0.394184\n",
      "Model saved after epoch:  1\n",
      "Epoch [3/100], Loss: 0.222454\n",
      "Model saved after epoch:  2\n",
      "Epoch [4/100], Loss: 0.130576\n",
      "Model saved after epoch:  3\n",
      "Epoch [5/100], Loss: 0.127092\n",
      "Model saved after epoch:  4\n",
      "Epoch [6/100], Loss: 0.093042\n",
      "Model saved after epoch:  5\n",
      "Epoch [7/100], Loss: 0.120667\n",
      "Model saved after epoch:  6\n",
      "Epoch [8/100], Loss: 0.116562\n",
      "Model saved after epoch:  7\n",
      "Epoch [9/100], Loss: 0.121100\n",
      "Model saved after epoch:  8\n",
      "Epoch [10/100], Loss: 0.107153\n",
      "Model saved after epoch:  9\n",
      "Epoch [11/100], Loss: 0.076220\n",
      "Model saved after epoch:  10\n",
      "Epoch [12/100], Loss: 0.101551\n",
      "Model saved after epoch:  11\n",
      "Epoch [13/100], Loss: 0.086301\n",
      "Model saved after epoch:  12\n",
      "Epoch [14/100], Loss: 0.089381\n",
      "Model saved after epoch:  13\n",
      "Epoch [15/100], Loss: 0.106028\n",
      "Model saved after epoch:  14\n",
      "Epoch [16/100], Loss: 0.092926\n",
      "Model saved after epoch:  15\n",
      "Epoch [17/100], Loss: 0.090328\n",
      "Model saved after epoch:  16\n",
      "Epoch [18/100], Loss: 0.101445\n",
      "Model saved after epoch:  17\n",
      "Epoch [19/100], Loss: 0.058508\n",
      "Model saved after epoch:  18\n",
      "Epoch [20/100], Loss: 0.128818\n",
      "Model saved after epoch:  19\n",
      "Epoch [21/100], Loss: 0.075884\n",
      "Model saved after epoch:  20\n",
      "Epoch [22/100], Loss: 0.093391\n",
      "Model saved after epoch:  21\n",
      "Epoch [23/100], Loss: 0.089572\n",
      "Model saved after epoch:  22\n",
      "Epoch [24/100], Loss: 0.053837\n",
      "Model saved after epoch:  23\n",
      "Epoch [25/100], Loss: 0.101404\n",
      "Model saved after epoch:  24\n",
      "Epoch [26/100], Loss: 0.073585\n",
      "Model saved after epoch:  25\n",
      "Epoch [27/100], Loss: 0.096966\n",
      "Model saved after epoch:  26\n",
      "Epoch [28/100], Loss: 0.123947\n",
      "Model saved after epoch:  27\n",
      "Epoch [29/100], Loss: 0.076446\n",
      "Model saved after epoch:  28\n",
      "Epoch [30/100], Loss: 0.081108\n",
      "Model saved after epoch:  29\n",
      "Epoch [31/100], Loss: 0.120796\n",
      "Model saved after epoch:  30\n",
      "Epoch [32/100], Loss: 0.126794\n",
      "Model saved after epoch:  31\n",
      "Epoch [33/100], Loss: 0.069863\n",
      "Model saved after epoch:  32\n",
      "Epoch [34/100], Loss: 0.054434\n",
      "Model saved after epoch:  33\n",
      "Epoch [35/100], Loss: 0.070983\n",
      "Model saved after epoch:  34\n",
      "Epoch [36/100], Loss: 0.109187\n",
      "Model saved after epoch:  35\n",
      "Epoch [37/100], Loss: 0.069619\n",
      "Model saved after epoch:  36\n",
      "Epoch [38/100], Loss: 0.043137\n",
      "Model saved after epoch:  37\n",
      "Epoch [39/100], Loss: 0.051553\n",
      "Model saved after epoch:  38\n",
      "Epoch [40/100], Loss: 0.088505\n",
      "Model saved after epoch:  39\n",
      "Epoch [41/100], Loss: 0.038106\n",
      "Model saved after epoch:  40\n",
      "Epoch [42/100], Loss: 0.051350\n",
      "Model saved after epoch:  41\n",
      "Epoch [43/100], Loss: 0.038428\n",
      "Model saved after epoch:  42\n",
      "Epoch [44/100], Loss: 0.038470\n",
      "Model saved after epoch:  43\n",
      "Epoch [45/100], Loss: 0.034400\n",
      "Model saved after epoch:  44\n",
      "Epoch [46/100], Loss: 0.034888\n",
      "Model saved after epoch:  45\n",
      "Epoch [47/100], Loss: 0.082996\n",
      "Model saved after epoch:  46\n",
      "Epoch [48/100], Loss: 0.025959\n",
      "Model saved after epoch:  47\n",
      "Epoch [49/100], Loss: 0.064090\n",
      "Model saved after epoch:  48\n",
      "Epoch [50/100], Loss: 0.021574\n",
      "Model saved after epoch:  49\n",
      "Epoch [51/100], Loss: 0.029107\n",
      "Model saved after epoch:  50\n",
      "Epoch [52/100], Loss: 0.021471\n",
      "Model saved after epoch:  51\n",
      "Epoch [53/100], Loss: 0.014314\n",
      "Model saved after epoch:  52\n",
      "Epoch [54/100], Loss: 0.062299\n",
      "Model saved after epoch:  53\n",
      "Epoch [55/100], Loss: 0.040873\n",
      "Model saved after epoch:  54\n",
      "Epoch [56/100], Loss: 0.019603\n",
      "Model saved after epoch:  55\n",
      "Epoch [57/100], Loss: 0.062385\n",
      "Model saved after epoch:  56\n",
      "Epoch [58/100], Loss: 0.033778\n",
      "Model saved after epoch:  57\n",
      "Epoch [59/100], Loss: 0.033538\n",
      "Model saved after epoch:  58\n",
      "Epoch [60/100], Loss: 0.028139\n",
      "Model saved after epoch:  59\n",
      "Epoch [61/100], Loss: 0.009388\n",
      "Model saved after epoch:  60\n",
      "Epoch [62/100], Loss: 0.055491\n",
      "Model saved after epoch:  61\n",
      "Epoch [63/100], Loss: 0.061361\n",
      "Model saved after epoch:  62\n",
      "Epoch [64/100], Loss: 0.004043\n",
      "Model saved after epoch:  63\n",
      "Epoch [65/100], Loss: 0.018092\n",
      "Model saved after epoch:  64\n",
      "Epoch [66/100], Loss: 0.023131\n",
      "Model saved after epoch:  65\n",
      "Epoch [67/100], Loss: 0.039359\n",
      "Model saved after epoch:  66\n",
      "Epoch [68/100], Loss: 0.008843\n",
      "Model saved after epoch:  67\n",
      "Epoch [69/100], Loss: 0.027498\n",
      "Model saved after epoch:  68\n",
      "Epoch [70/100], Loss: 0.011768\n",
      "Model saved after epoch:  69\n",
      "Epoch [71/100], Loss: 0.027267\n",
      "Model saved after epoch:  70\n",
      "Epoch [72/100], Loss: 0.019028\n",
      "Model saved after epoch:  71\n",
      "Epoch [73/100], Loss: 0.127394\n",
      "Model saved after epoch:  72\n",
      "Epoch [74/100], Loss: 0.061794\n",
      "Model saved after epoch:  73\n",
      "Epoch [75/100], Loss: 0.048924\n",
      "Model saved after epoch:  74\n",
      "Epoch [76/100], Loss: 0.014433\n",
      "Model saved after epoch:  75\n",
      "Epoch [77/100], Loss: 0.037589\n",
      "Model saved after epoch:  76\n",
      "Epoch [78/100], Loss: 0.011151\n",
      "Model saved after epoch:  77\n",
      "Epoch [79/100], Loss: 0.007318\n",
      "Model saved after epoch:  78\n",
      "Epoch [80/100], Loss: 0.026434\n",
      "Model saved after epoch:  79\n",
      "Epoch [81/100], Loss: 0.001367\n",
      "Model saved after epoch:  80\n",
      "Epoch [82/100], Loss: 0.012180\n",
      "Model saved after epoch:  81\n",
      "Epoch [83/100], Loss: 0.008454\n",
      "Model saved after epoch:  82\n",
      "Epoch [84/100], Loss: 0.011338\n",
      "Model saved after epoch:  83\n",
      "Epoch [85/100], Loss: 0.001588\n",
      "Model saved after epoch:  84\n",
      "Epoch [86/100], Loss: 0.000748\n",
      "Model saved after epoch:  85\n",
      "Epoch [87/100], Loss: 0.007574\n",
      "Model saved after epoch:  86\n",
      "Epoch [88/100], Loss: 0.005236\n",
      "Model saved after epoch:  87\n",
      "Epoch [89/100], Loss: 0.008624\n",
      "Model saved after epoch:  88\n",
      "Epoch [90/100], Loss: 0.003327\n",
      "Model saved after epoch:  89\n",
      "Epoch [91/100], Loss: 0.014062\n",
      "Model saved after epoch:  90\n",
      "Epoch [92/100], Loss: 0.022832\n",
      "Model saved after epoch:  91\n",
      "Epoch [93/100], Loss: 0.001981\n",
      "Model saved after epoch:  92\n",
      "Epoch [94/100], Loss: 0.002232\n",
      "Model saved after epoch:  93\n",
      "Epoch [95/100], Loss: 0.026793\n",
      "Model saved after epoch:  94\n",
      "Epoch [96/100], Loss: 0.007617\n",
      "Model saved after epoch:  95\n",
      "Epoch [97/100], Loss: 0.006938\n",
      "Model saved after epoch:  96\n",
      "Epoch [98/100], Loss: 0.027077\n",
      "Model saved after epoch:  97\n",
      "Epoch [99/100], Loss: 0.036519\n",
      "Model saved after epoch:  98\n",
      "Epoch [100/100], Loss: 0.011132\n",
      "Model saved after epoch:  99\n",
      "Finished Training Completely\n"
     ]
    }
   ],
   "source": [
    "train('VGG19', check = 'save')"
   ]
  },
  {
   "cell_type": "code",
   "execution_count": null,
   "id": "70A9yW5nDYsT",
   "metadata": {
    "colab": {
     "base_uri": "https://localhost:8080/"
    },
    "id": "70A9yW5nDYsT",
    "outputId": "bc68dbc8-9974-49c4-b33d-f804540cbeb7"
   },
   "outputs": [
    {
     "data": {
      "text/plain": [
       "<All keys matched successfully>"
      ]
     },
     "execution_count": 52,
     "metadata": {},
     "output_type": "execute_result"
    }
   ],
   "source": [
    "model = ConvNet(cnn_type = 'VGG19').to(device)\n",
    "PATH = f'./VGG19.pth'\n",
    "model.load_state_dict(torch.load(PATH))"
   ]
  },
  {
   "cell_type": "code",
   "execution_count": null,
   "id": "R85tgb3h5hyG",
   "metadata": {
    "colab": {
     "base_uri": "https://localhost:8080/"
    },
    "id": "R85tgb3h5hyG",
    "outputId": "17582957-166c-4bab-c1f9-950cd7f68a2a"
   },
   "outputs": [
    {
     "data": {
      "text/plain": [
       "array([[2641,  113],\n",
       "       [ 120, 2634]])"
      ]
     },
     "execution_count": 53,
     "metadata": {},
     "output_type": "execute_result"
    }
   ],
   "source": [
    "matrix, accuracy, precision, recall, f1 = test(test_loader, model)\n",
    "test_accuracy_df.loc['VGG19'] = [accuracy,precision,recall,f1]\n",
    "matrix"
   ]
  },
  {
   "cell_type": "code",
   "execution_count": null,
   "id": "ovd91Bu05h1O",
   "metadata": {
    "colab": {
     "base_uri": "https://localhost:8080/"
    },
    "id": "ovd91Bu05h1O",
    "outputId": "af785bd9-b2c6-4d73-8746-09adbf773bb9"
   },
   "outputs": [
    {
     "data": {
      "text/plain": [
       "array([[11022,     3],\n",
       "       [    8, 11017]])"
      ]
     },
     "execution_count": 54,
     "metadata": {},
     "output_type": "execute_result"
    }
   ],
   "source": [
    "matrix, accuracy, precision, recall, f1 = test(train_loader, model)\n",
    "train_accuracy_df.loc['VGG19'] = [accuracy,precision,recall,f1]\n",
    "matrix"
   ]
  },
  {
   "cell_type": "code",
   "execution_count": null,
   "id": "uJVbyYWV8L-B",
   "metadata": {
    "colab": {
     "base_uri": "https://localhost:8080/",
     "height": 175
    },
    "id": "uJVbyYWV8L-B",
    "outputId": "ad2edc43-b2fe-4d9e-c494-f58111566f31"
   },
   "outputs": [
    {
     "data": {
      "text/html": [
       "<div>\n",
       "<style scoped>\n",
       "    .dataframe tbody tr th:only-of-type {\n",
       "        vertical-align: middle;\n",
       "    }\n",
       "\n",
       "    .dataframe tbody tr th {\n",
       "        vertical-align: top;\n",
       "    }\n",
       "\n",
       "    .dataframe thead th {\n",
       "        text-align: right;\n",
       "    }\n",
       "</style>\n",
       "<table border=\"1\" class=\"dataframe\">\n",
       "  <thead>\n",
       "    <tr style=\"text-align: right;\">\n",
       "      <th></th>\n",
       "      <th>Accuracy</th>\n",
       "      <th>Precision</th>\n",
       "      <th>Recall</th>\n",
       "      <th>F1</th>\n",
       "    </tr>\n",
       "  </thead>\n",
       "  <tbody>\n",
       "    <tr>\n",
       "      <th>VGG11</th>\n",
       "      <td>0.999546</td>\n",
       "      <td>0.999184</td>\n",
       "      <td>0.999909</td>\n",
       "      <td>0.999547</td>\n",
       "    </tr>\n",
       "    <tr>\n",
       "      <th>VGG13</th>\n",
       "      <td>0.991565</td>\n",
       "      <td>0.988728</td>\n",
       "      <td>0.994467</td>\n",
       "      <td>0.991589</td>\n",
       "    </tr>\n",
       "    <tr>\n",
       "      <th>VGG16</th>\n",
       "      <td>0.990794</td>\n",
       "      <td>0.990216</td>\n",
       "      <td>0.991383</td>\n",
       "      <td>0.990799</td>\n",
       "    </tr>\n",
       "    <tr>\n",
       "      <th>VGG19</th>\n",
       "      <td>0.999501</td>\n",
       "      <td>0.999728</td>\n",
       "      <td>0.999274</td>\n",
       "      <td>0.999501</td>\n",
       "    </tr>\n",
       "  </tbody>\n",
       "</table>\n",
       "</div>"
      ],
      "text/plain": [
       "       Accuracy Precision    Recall        F1\n",
       "VGG11  0.999546  0.999184  0.999909  0.999547\n",
       "VGG13  0.991565  0.988728  0.994467  0.991589\n",
       "VGG16  0.990794  0.990216  0.991383  0.990799\n",
       "VGG19  0.999501  0.999728  0.999274  0.999501"
      ]
     },
     "execution_count": 55,
     "metadata": {},
     "output_type": "execute_result"
    }
   ],
   "source": [
    "train_accuracy_df"
   ]
  },
  {
   "cell_type": "code",
   "execution_count": null,
   "id": "-fTfuN0v8QCM",
   "metadata": {
    "colab": {
     "base_uri": "https://localhost:8080/",
     "height": 175
    },
    "id": "-fTfuN0v8QCM",
    "outputId": "ce610919-a45d-4d03-c531-8cad27c9a2ba"
   },
   "outputs": [
    {
     "data": {
      "text/html": [
       "<div>\n",
       "<style scoped>\n",
       "    .dataframe tbody tr th:only-of-type {\n",
       "        vertical-align: middle;\n",
       "    }\n",
       "\n",
       "    .dataframe tbody tr th {\n",
       "        vertical-align: top;\n",
       "    }\n",
       "\n",
       "    .dataframe thead th {\n",
       "        text-align: right;\n",
       "    }\n",
       "</style>\n",
       "<table border=\"1\" class=\"dataframe\">\n",
       "  <thead>\n",
       "    <tr style=\"text-align: right;\">\n",
       "      <th></th>\n",
       "      <th>Accuracy</th>\n",
       "      <th>Precision</th>\n",
       "      <th>Recall</th>\n",
       "      <th>F1</th>\n",
       "    </tr>\n",
       "  </thead>\n",
       "  <tbody>\n",
       "    <tr>\n",
       "      <th>VGG11</th>\n",
       "      <td>0.950073</td>\n",
       "      <td>0.941889</td>\n",
       "      <td>0.959332</td>\n",
       "      <td>0.950531</td>\n",
       "    </tr>\n",
       "    <tr>\n",
       "      <th>VGG13</th>\n",
       "      <td>0.952977</td>\n",
       "      <td>0.946652</td>\n",
       "      <td>0.960058</td>\n",
       "      <td>0.953308</td>\n",
       "    </tr>\n",
       "    <tr>\n",
       "      <th>VGG16</th>\n",
       "      <td>0.957516</td>\n",
       "      <td>0.96875</td>\n",
       "      <td>0.945534</td>\n",
       "      <td>0.957001</td>\n",
       "    </tr>\n",
       "    <tr>\n",
       "      <th>VGG19</th>\n",
       "      <td>0.957698</td>\n",
       "      <td>0.958864</td>\n",
       "      <td>0.956427</td>\n",
       "      <td>0.957644</td>\n",
       "    </tr>\n",
       "  </tbody>\n",
       "</table>\n",
       "</div>"
      ],
      "text/plain": [
       "       Accuracy Precision    Recall        F1\n",
       "VGG11  0.950073  0.941889  0.959332  0.950531\n",
       "VGG13  0.952977  0.946652  0.960058  0.953308\n",
       "VGG16  0.957516   0.96875  0.945534  0.957001\n",
       "VGG19  0.957698  0.958864  0.956427  0.957644"
      ]
     },
     "execution_count": 56,
     "metadata": {},
     "output_type": "execute_result"
    }
   ],
   "source": [
    "test_accuracy_df"
   ]
  }
 ],
 "metadata": {
  "colab": {
   "collapsed_sections": [],
   "name": "vgg.ipynb",
   "provenance": []
  },
  "kernelspec": {
   "display_name": "Python 3 (ipykernel)",
   "language": "python",
   "name": "python3"
  },
  "language_info": {
   "codemirror_mode": {
    "name": "ipython",
    "version": 3
   },
   "file_extension": ".py",
   "mimetype": "text/x-python",
   "name": "python",
   "nbconvert_exporter": "python",
   "pygments_lexer": "ipython3",
   "version": "3.8.11"
  }
 },
 "nbformat": 4,
 "nbformat_minor": 5
}
